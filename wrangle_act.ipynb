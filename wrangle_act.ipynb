{
 "cells": [
  {
   "cell_type": "markdown",
   "metadata": {},
   "source": [
    "# 1. Importing libraries\n"
   ]
  },
  {
   "cell_type": "code",
   "execution_count": 173,
   "metadata": {},
   "outputs": [],
   "source": [
    "import pandas as pd\n",
    "import numpy as np\n",
    "import matplotlib.pyplot as plt\n",
    "%matplotlib inline\n",
    "import requests\n",
    "import json"
   ]
  },
  {
   "cell_type": "markdown",
   "metadata": {},
   "source": [
    "# 2. Gathering Data"
   ]
  },
  {
   "cell_type": "markdown",
   "metadata": {},
   "source": [
    "A.Importing Enhanced Twitter Archive"
   ]
  },
  {
   "cell_type": "code",
   "execution_count": 174,
   "metadata": {},
   "outputs": [],
   "source": [
    "t_archive = pd.read_csv('twitter-archive-enhanced.csv')"
   ]
  },
  {
   "cell_type": "markdown",
   "metadata": {},
   "source": [
    "B. Download The Tweet Image Predictions"
   ]
  },
  {
   "cell_type": "code",
   "execution_count": 175,
   "metadata": {},
   "outputs": [],
   "source": [
    "url = 'https://d17h27t6h515a5.cloudfront.net/topher/2017/August/599fd2ad_image-predictions/image-predictions.tsv'\n",
    "response = requests.get(url)\n",
    "with open('image-predictions.tsv' , mode ='wb') as file:\n",
    "    file.write(response.content)"
   ]
  },
  {
   "cell_type": "markdown",
   "metadata": {},
   "source": [
    "C.Getting Tweet Data From  Twitter API."
   ]
  },
  {
   "cell_type": "code",
   "execution_count": null,
   "metadata": {},
   "outputs": [],
   "source": [
    "import tweepy\n",
    "from tweepy import OAuthHandler\n",
    "import json\n",
    "from timeit import default_timer as timer\n",
    "\n",
    "# Query Twitter API for each tweet in the Twitter archive and save JSON in a text file\n",
    "# These are hidden to comply with Twitter's API terms and conditions\n",
    "consumer_key = 'HIDDEN'\n",
    "consumer_secret = 'HIDDEN'\n",
    "access_token = 'HIDDEN'\n",
    "access_secret = 'HIDDEN'\n",
    "\n",
    "auth = OAuthHandler(consumer_key, consumer_secret)\n",
    "auth.set_access_token(access_token, access_secret)\n",
    "\n",
    "api = tweepy.API(auth, wait_on_rate_limit=True)\n",
    "\n",
    "# NOTE TO STUDENT WITH MOBILE VERIFICATION ISSUES:\n",
    "# df_1 is a DataFrame with the twitter_archive_enhanced.csv file. You may have to\n",
    "# change line 17 to match the name of your DataFrame with twitter_archive_enhanced.csv\n",
    "# NOTE TO REVIEWER: this student had mobile verification issues so the following\n",
    "# Twitter API code was sent to this student from a Udacity instructor\n",
    "# Tweet IDs for which to gather additional data via Twitter's API\n",
    "tweet_ids = df_1.tweet_id.values\n",
    "len(tweet_ids)\n",
    "\n",
    "# Query Twitter's API for JSON data for each tweet ID in the Twitter archive\n",
    "count = 0\n",
    "fails_dict = {}\n",
    "start = timer()\n",
    "# Save each tweet's returned JSON as a new line in a .txt file\n",
    "with open('tweet_json.txt', 'w') as outfile:\n",
    "    # This loop will likely take 20-30 minutes to run because of Twitter's rate limit\n",
    "    for tweet_id in tweet_ids:\n",
    "        count += 1\n",
    "        print(str(count) + \": \" + str(tweet_id))\n",
    "        try:\n",
    "            tweet = api.get_status(tweet_id, tweet_mode='extended')\n",
    "            print(\"Success\")\n",
    "            json.dump(tweet._json, outfile)\n",
    "            outfile.write('\\n')\n",
    "        except tweepy.TweepError as e:\n",
    "            print(\"Fail\")\n",
    "            fails_dict[tweet_id] = e\n",
    "            pass\n",
    "end = timer()\n",
    "print(end - start)\n",
    "print(fails_dict)"
   ]
  },
  {
   "cell_type": "code",
   "execution_count": 176,
   "metadata": {},
   "outputs": [
    {
     "name": "stdout",
     "output_type": "stream",
     "text": [
      "<class 'str'>\n",
      "<class 'dict'>\n"
     ]
    }
   ],
   "source": [
    "df_list = []\n",
    "\n",
    "with open('tweet-json.txt', 'r') as file:\n",
    "    for line in file:\n",
    "        print(type(line))\n",
    "        tweet = json.loads(line)\n",
    "        print(type(tweet))\n",
    "        break"
   ]
  },
  {
   "cell_type": "code",
   "execution_count": 177,
   "metadata": {},
   "outputs": [
    {
     "data": {
      "text/html": [
       "<div>\n",
       "<style scoped>\n",
       "    .dataframe tbody tr th:only-of-type {\n",
       "        vertical-align: middle;\n",
       "    }\n",
       "\n",
       "    .dataframe tbody tr th {\n",
       "        vertical-align: top;\n",
       "    }\n",
       "\n",
       "    .dataframe thead th {\n",
       "        text-align: right;\n",
       "    }\n",
       "</style>\n",
       "<table border=\"1\" class=\"dataframe\">\n",
       "  <thead>\n",
       "    <tr style=\"text-align: right;\">\n",
       "      <th></th>\n",
       "      <th>favorite_count</th>\n",
       "      <th>retweet_count</th>\n",
       "      <th>tweet_id</th>\n",
       "    </tr>\n",
       "  </thead>\n",
       "  <tbody>\n",
       "    <tr>\n",
       "      <th>0</th>\n",
       "      <td>39467</td>\n",
       "      <td>8853</td>\n",
       "      <td>892420643555336193</td>\n",
       "    </tr>\n",
       "    <tr>\n",
       "      <th>1</th>\n",
       "      <td>33819</td>\n",
       "      <td>6514</td>\n",
       "      <td>892177421306343426</td>\n",
       "    </tr>\n",
       "    <tr>\n",
       "      <th>2</th>\n",
       "      <td>25461</td>\n",
       "      <td>4328</td>\n",
       "      <td>891815181378084864</td>\n",
       "    </tr>\n",
       "    <tr>\n",
       "      <th>3</th>\n",
       "      <td>42908</td>\n",
       "      <td>8964</td>\n",
       "      <td>891689557279858688</td>\n",
       "    </tr>\n",
       "    <tr>\n",
       "      <th>4</th>\n",
       "      <td>41048</td>\n",
       "      <td>9774</td>\n",
       "      <td>891327558926688256</td>\n",
       "    </tr>\n",
       "  </tbody>\n",
       "</table>\n",
       "</div>"
      ],
      "text/plain": [
       "   favorite_count  retweet_count            tweet_id\n",
       "0           39467           8853  892420643555336193\n",
       "1           33819           6514  892177421306343426\n",
       "2           25461           4328  891815181378084864\n",
       "3           42908           8964  891689557279858688\n",
       "4           41048           9774  891327558926688256"
      ]
     },
     "execution_count": 177,
     "metadata": {},
     "output_type": "execute_result"
    }
   ],
   "source": [
    "df_list = []\n",
    "\n",
    "with open('tweet-json.txt', 'r') as file:\n",
    "    for line in file:\n",
    "        tweet = json.loads(line)\n",
    "        tweet_id = tweet['id']\n",
    "        retweet_count = tweet['retweet_count']\n",
    "        favorite_count = tweet ['favorite_count']\n",
    "        df_list.append({'tweet_id': tweet_id,\n",
    "                       'retweet_count': retweet_count,\n",
    "                       'favorite_count': favorite_count})\n",
    "tweet_data = pd.DataFrame(df_list)\n",
    "tweet_data.head()"
   ]
  },
  {
   "cell_type": "code",
   "execution_count": 178,
   "metadata": {},
   "outputs": [
    {
     "name": "stdout",
     "output_type": "stream",
     "text": [
      "{'tweet_id': 892420643555336193, 'retweet_count': 8853, 'favorite_count': 39467}\n"
     ]
    }
   ],
   "source": [
    "print(df_list[0])"
   ]
  },
  {
   "cell_type": "code",
   "execution_count": 179,
   "metadata": {},
   "outputs": [
    {
     "data": {
      "text/html": [
       "<div>\n",
       "<style scoped>\n",
       "    .dataframe tbody tr th:only-of-type {\n",
       "        vertical-align: middle;\n",
       "    }\n",
       "\n",
       "    .dataframe tbody tr th {\n",
       "        vertical-align: top;\n",
       "    }\n",
       "\n",
       "    .dataframe thead th {\n",
       "        text-align: right;\n",
       "    }\n",
       "</style>\n",
       "<table border=\"1\" class=\"dataframe\">\n",
       "  <thead>\n",
       "    <tr style=\"text-align: right;\">\n",
       "      <th></th>\n",
       "      <th>favorite_count</th>\n",
       "      <th>retweet_count</th>\n",
       "      <th>tweet_id</th>\n",
       "      <th>user_count</th>\n",
       "    </tr>\n",
       "  </thead>\n",
       "  <tbody>\n",
       "    <tr>\n",
       "      <th>246</th>\n",
       "      <td>0</td>\n",
       "      <td>15071</td>\n",
       "      <td>845459076796616705</td>\n",
       "      <td>3200891</td>\n",
       "    </tr>\n",
       "    <tr>\n",
       "      <th>2074</th>\n",
       "      <td>1189</td>\n",
       "      <td>758</td>\n",
       "      <td>670838202509447168</td>\n",
       "      <td>3201008</td>\n",
       "    </tr>\n",
       "    <tr>\n",
       "      <th>1408</th>\n",
       "      <td>2863</td>\n",
       "      <td>1345</td>\n",
       "      <td>699036661657767936</td>\n",
       "      <td>3200950</td>\n",
       "    </tr>\n",
       "    <tr>\n",
       "      <th>1298</th>\n",
       "      <td>3765</td>\n",
       "      <td>1133</td>\n",
       "      <td>707693576495472641</td>\n",
       "      <td>3200947</td>\n",
       "    </tr>\n",
       "    <tr>\n",
       "      <th>2087</th>\n",
       "      <td>700</td>\n",
       "      <td>255</td>\n",
       "      <td>670789397210615808</td>\n",
       "      <td>3201008</td>\n",
       "    </tr>\n",
       "    <tr>\n",
       "      <th>1710</th>\n",
       "      <td>1879</td>\n",
       "      <td>542</td>\n",
       "      <td>680494726643068929</td>\n",
       "      <td>3200953</td>\n",
       "    </tr>\n",
       "    <tr>\n",
       "      <th>448</th>\n",
       "      <td>95450</td>\n",
       "      <td>42228</td>\n",
       "      <td>819004803107983360</td>\n",
       "      <td>3200894</td>\n",
       "    </tr>\n",
       "    <tr>\n",
       "      <th>1877</th>\n",
       "      <td>2918</td>\n",
       "      <td>1335</td>\n",
       "      <td>675015141583413248</td>\n",
       "      <td>3201003</td>\n",
       "    </tr>\n",
       "    <tr>\n",
       "      <th>42</th>\n",
       "      <td>20771</td>\n",
       "      <td>3128</td>\n",
       "      <td>884162670584377345</td>\n",
       "      <td>3200890</td>\n",
       "    </tr>\n",
       "    <tr>\n",
       "      <th>2267</th>\n",
       "      <td>7148</td>\n",
       "      <td>2272</td>\n",
       "      <td>667509364010450944</td>\n",
       "      <td>3201016</td>\n",
       "    </tr>\n",
       "  </tbody>\n",
       "</table>\n",
       "</div>"
      ],
      "text/plain": [
       "      favorite_count  retweet_count            tweet_id  user_count\n",
       "246                0          15071  845459076796616705     3200891\n",
       "2074            1189            758  670838202509447168     3201008\n",
       "1408            2863           1345  699036661657767936     3200950\n",
       "1298            3765           1133  707693576495472641     3200947\n",
       "2087             700            255  670789397210615808     3201008\n",
       "1710            1879            542  680494726643068929     3200953\n",
       "448            95450          42228  819004803107983360     3200894\n",
       "1877            2918           1335  675015141583413248     3201003\n",
       "42             20771           3128  884162670584377345     3200890\n",
       "2267            7148           2272  667509364010450944     3201016"
      ]
     },
     "execution_count": 179,
     "metadata": {},
     "output_type": "execute_result"
    }
   ],
   "source": [
    "df_list = []\n",
    "\n",
    "with open('tweet-json.txt', 'r') as file:\n",
    "    for line in file:\n",
    "        tweet = json.loads(line)\n",
    "        tweet_id = tweet['id']\n",
    "        retweet_count = tweet['retweet_count']\n",
    "        favorite_count = tweet ['favorite_count']\n",
    "        user_count = tweet['user']['followers_count']\n",
    "        df_list.append({'tweet_id': tweet_id,\n",
    "                       'retweet_count': retweet_count,\n",
    "                       'favorite_count': favorite_count,\n",
    "                       'user_count': user_count})\n",
    "tweet_data  = pd.DataFrame(df_list) \n",
    "tweet_data .sample(10)"
   ]
  },
  {
   "cell_type": "code",
   "execution_count": 180,
   "metadata": {},
   "outputs": [],
   "source": [
    "tweet_data .to_csv('tweet_data.csv', index=False)"
   ]
  },
  {
   "cell_type": "code",
   "execution_count": 181,
   "metadata": {},
   "outputs": [
    {
     "data": {
      "text/html": [
       "<div>\n",
       "<style scoped>\n",
       "    .dataframe tbody tr th:only-of-type {\n",
       "        vertical-align: middle;\n",
       "    }\n",
       "\n",
       "    .dataframe tbody tr th {\n",
       "        vertical-align: top;\n",
       "    }\n",
       "\n",
       "    .dataframe thead th {\n",
       "        text-align: right;\n",
       "    }\n",
       "</style>\n",
       "<table border=\"1\" class=\"dataframe\">\n",
       "  <thead>\n",
       "    <tr style=\"text-align: right;\">\n",
       "      <th></th>\n",
       "      <th>favorite_count</th>\n",
       "      <th>retweet_count</th>\n",
       "      <th>tweet_id</th>\n",
       "      <th>user_count</th>\n",
       "    </tr>\n",
       "  </thead>\n",
       "  <tbody>\n",
       "    <tr>\n",
       "      <th>0</th>\n",
       "      <td>39467</td>\n",
       "      <td>8853</td>\n",
       "      <td>892420643555336193</td>\n",
       "      <td>3200889</td>\n",
       "    </tr>\n",
       "    <tr>\n",
       "      <th>1</th>\n",
       "      <td>33819</td>\n",
       "      <td>6514</td>\n",
       "      <td>892177421306343426</td>\n",
       "      <td>3200889</td>\n",
       "    </tr>\n",
       "    <tr>\n",
       "      <th>2</th>\n",
       "      <td>25461</td>\n",
       "      <td>4328</td>\n",
       "      <td>891815181378084864</td>\n",
       "      <td>3200889</td>\n",
       "    </tr>\n",
       "    <tr>\n",
       "      <th>3</th>\n",
       "      <td>42908</td>\n",
       "      <td>8964</td>\n",
       "      <td>891689557279858688</td>\n",
       "      <td>3200889</td>\n",
       "    </tr>\n",
       "    <tr>\n",
       "      <th>4</th>\n",
       "      <td>41048</td>\n",
       "      <td>9774</td>\n",
       "      <td>891327558926688256</td>\n",
       "      <td>3200889</td>\n",
       "    </tr>\n",
       "  </tbody>\n",
       "</table>\n",
       "</div>"
      ],
      "text/plain": [
       "   favorite_count  retweet_count            tweet_id  user_count\n",
       "0           39467           8853  892420643555336193     3200889\n",
       "1           33819           6514  892177421306343426     3200889\n",
       "2           25461           4328  891815181378084864     3200889\n",
       "3           42908           8964  891689557279858688     3200889\n",
       "4           41048           9774  891327558926688256     3200889"
      ]
     },
     "execution_count": 181,
     "metadata": {},
     "output_type": "execute_result"
    }
   ],
   "source": [
    "x = pd.read_csv('tweet_data.csv')\n",
    "x.head()"
   ]
  },
  {
   "cell_type": "markdown",
   "metadata": {},
   "source": [
    "# 3.Assessing Data"
   ]
  },
  {
   "cell_type": "markdown",
   "metadata": {},
   "source": [
    "A.Assesing Enhanced Twitter Archive Data"
   ]
  },
  {
   "cell_type": "code",
   "execution_count": 182,
   "metadata": {},
   "outputs": [
    {
     "data": {
      "text/html": [
       "<div>\n",
       "<style scoped>\n",
       "    .dataframe tbody tr th:only-of-type {\n",
       "        vertical-align: middle;\n",
       "    }\n",
       "\n",
       "    .dataframe tbody tr th {\n",
       "        vertical-align: top;\n",
       "    }\n",
       "\n",
       "    .dataframe thead th {\n",
       "        text-align: right;\n",
       "    }\n",
       "</style>\n",
       "<table border=\"1\" class=\"dataframe\">\n",
       "  <thead>\n",
       "    <tr style=\"text-align: right;\">\n",
       "      <th></th>\n",
       "      <th>tweet_id</th>\n",
       "      <th>in_reply_to_status_id</th>\n",
       "      <th>in_reply_to_user_id</th>\n",
       "      <th>timestamp</th>\n",
       "      <th>source</th>\n",
       "      <th>text</th>\n",
       "      <th>retweeted_status_id</th>\n",
       "      <th>retweeted_status_user_id</th>\n",
       "      <th>retweeted_status_timestamp</th>\n",
       "      <th>expanded_urls</th>\n",
       "      <th>rating_numerator</th>\n",
       "      <th>rating_denominator</th>\n",
       "      <th>name</th>\n",
       "      <th>doggo</th>\n",
       "      <th>floofer</th>\n",
       "      <th>pupper</th>\n",
       "      <th>puppo</th>\n",
       "    </tr>\n",
       "  </thead>\n",
       "  <tbody>\n",
       "    <tr>\n",
       "      <th>0</th>\n",
       "      <td>892420643555336193</td>\n",
       "      <td>NaN</td>\n",
       "      <td>NaN</td>\n",
       "      <td>2017-08-01 16:23:56 +0000</td>\n",
       "      <td>&lt;a href=\"http://twitter.com/download/iphone\" r...</td>\n",
       "      <td>This is Phineas. He's a mystical boy. Only eve...</td>\n",
       "      <td>NaN</td>\n",
       "      <td>NaN</td>\n",
       "      <td>NaN</td>\n",
       "      <td>https://twitter.com/dog_rates/status/892420643...</td>\n",
       "      <td>13</td>\n",
       "      <td>10</td>\n",
       "      <td>Phineas</td>\n",
       "      <td>None</td>\n",
       "      <td>None</td>\n",
       "      <td>None</td>\n",
       "      <td>None</td>\n",
       "    </tr>\n",
       "    <tr>\n",
       "      <th>1</th>\n",
       "      <td>892177421306343426</td>\n",
       "      <td>NaN</td>\n",
       "      <td>NaN</td>\n",
       "      <td>2017-08-01 00:17:27 +0000</td>\n",
       "      <td>&lt;a href=\"http://twitter.com/download/iphone\" r...</td>\n",
       "      <td>This is Tilly. She's just checking pup on you....</td>\n",
       "      <td>NaN</td>\n",
       "      <td>NaN</td>\n",
       "      <td>NaN</td>\n",
       "      <td>https://twitter.com/dog_rates/status/892177421...</td>\n",
       "      <td>13</td>\n",
       "      <td>10</td>\n",
       "      <td>Tilly</td>\n",
       "      <td>None</td>\n",
       "      <td>None</td>\n",
       "      <td>None</td>\n",
       "      <td>None</td>\n",
       "    </tr>\n",
       "    <tr>\n",
       "      <th>2</th>\n",
       "      <td>891815181378084864</td>\n",
       "      <td>NaN</td>\n",
       "      <td>NaN</td>\n",
       "      <td>2017-07-31 00:18:03 +0000</td>\n",
       "      <td>&lt;a href=\"http://twitter.com/download/iphone\" r...</td>\n",
       "      <td>This is Archie. He is a rare Norwegian Pouncin...</td>\n",
       "      <td>NaN</td>\n",
       "      <td>NaN</td>\n",
       "      <td>NaN</td>\n",
       "      <td>https://twitter.com/dog_rates/status/891815181...</td>\n",
       "      <td>12</td>\n",
       "      <td>10</td>\n",
       "      <td>Archie</td>\n",
       "      <td>None</td>\n",
       "      <td>None</td>\n",
       "      <td>None</td>\n",
       "      <td>None</td>\n",
       "    </tr>\n",
       "    <tr>\n",
       "      <th>3</th>\n",
       "      <td>891689557279858688</td>\n",
       "      <td>NaN</td>\n",
       "      <td>NaN</td>\n",
       "      <td>2017-07-30 15:58:51 +0000</td>\n",
       "      <td>&lt;a href=\"http://twitter.com/download/iphone\" r...</td>\n",
       "      <td>This is Darla. She commenced a snooze mid meal...</td>\n",
       "      <td>NaN</td>\n",
       "      <td>NaN</td>\n",
       "      <td>NaN</td>\n",
       "      <td>https://twitter.com/dog_rates/status/891689557...</td>\n",
       "      <td>13</td>\n",
       "      <td>10</td>\n",
       "      <td>Darla</td>\n",
       "      <td>None</td>\n",
       "      <td>None</td>\n",
       "      <td>None</td>\n",
       "      <td>None</td>\n",
       "    </tr>\n",
       "    <tr>\n",
       "      <th>4</th>\n",
       "      <td>891327558926688256</td>\n",
       "      <td>NaN</td>\n",
       "      <td>NaN</td>\n",
       "      <td>2017-07-29 16:00:24 +0000</td>\n",
       "      <td>&lt;a href=\"http://twitter.com/download/iphone\" r...</td>\n",
       "      <td>This is Franklin. He would like you to stop ca...</td>\n",
       "      <td>NaN</td>\n",
       "      <td>NaN</td>\n",
       "      <td>NaN</td>\n",
       "      <td>https://twitter.com/dog_rates/status/891327558...</td>\n",
       "      <td>12</td>\n",
       "      <td>10</td>\n",
       "      <td>Franklin</td>\n",
       "      <td>None</td>\n",
       "      <td>None</td>\n",
       "      <td>None</td>\n",
       "      <td>None</td>\n",
       "    </tr>\n",
       "  </tbody>\n",
       "</table>\n",
       "</div>"
      ],
      "text/plain": [
       "             tweet_id  in_reply_to_status_id  in_reply_to_user_id  \\\n",
       "0  892420643555336193                    NaN                  NaN   \n",
       "1  892177421306343426                    NaN                  NaN   \n",
       "2  891815181378084864                    NaN                  NaN   \n",
       "3  891689557279858688                    NaN                  NaN   \n",
       "4  891327558926688256                    NaN                  NaN   \n",
       "\n",
       "                   timestamp  \\\n",
       "0  2017-08-01 16:23:56 +0000   \n",
       "1  2017-08-01 00:17:27 +0000   \n",
       "2  2017-07-31 00:18:03 +0000   \n",
       "3  2017-07-30 15:58:51 +0000   \n",
       "4  2017-07-29 16:00:24 +0000   \n",
       "\n",
       "                                              source  \\\n",
       "0  <a href=\"http://twitter.com/download/iphone\" r...   \n",
       "1  <a href=\"http://twitter.com/download/iphone\" r...   \n",
       "2  <a href=\"http://twitter.com/download/iphone\" r...   \n",
       "3  <a href=\"http://twitter.com/download/iphone\" r...   \n",
       "4  <a href=\"http://twitter.com/download/iphone\" r...   \n",
       "\n",
       "                                                text  retweeted_status_id  \\\n",
       "0  This is Phineas. He's a mystical boy. Only eve...                  NaN   \n",
       "1  This is Tilly. She's just checking pup on you....                  NaN   \n",
       "2  This is Archie. He is a rare Norwegian Pouncin...                  NaN   \n",
       "3  This is Darla. She commenced a snooze mid meal...                  NaN   \n",
       "4  This is Franklin. He would like you to stop ca...                  NaN   \n",
       "\n",
       "   retweeted_status_user_id retweeted_status_timestamp  \\\n",
       "0                       NaN                        NaN   \n",
       "1                       NaN                        NaN   \n",
       "2                       NaN                        NaN   \n",
       "3                       NaN                        NaN   \n",
       "4                       NaN                        NaN   \n",
       "\n",
       "                                       expanded_urls  rating_numerator  \\\n",
       "0  https://twitter.com/dog_rates/status/892420643...                13   \n",
       "1  https://twitter.com/dog_rates/status/892177421...                13   \n",
       "2  https://twitter.com/dog_rates/status/891815181...                12   \n",
       "3  https://twitter.com/dog_rates/status/891689557...                13   \n",
       "4  https://twitter.com/dog_rates/status/891327558...                12   \n",
       "\n",
       "   rating_denominator      name doggo floofer pupper puppo  \n",
       "0                  10   Phineas  None    None   None  None  \n",
       "1                  10     Tilly  None    None   None  None  \n",
       "2                  10    Archie  None    None   None  None  \n",
       "3                  10     Darla  None    None   None  None  \n",
       "4                  10  Franklin  None    None   None  None  "
      ]
     },
     "execution_count": 182,
     "metadata": {},
     "output_type": "execute_result"
    }
   ],
   "source": [
    "t_archive.head()"
   ]
  },
  {
   "cell_type": "code",
   "execution_count": 183,
   "metadata": {},
   "outputs": [
    {
     "data": {
      "text/html": [
       "<div>\n",
       "<style scoped>\n",
       "    .dataframe tbody tr th:only-of-type {\n",
       "        vertical-align: middle;\n",
       "    }\n",
       "\n",
       "    .dataframe tbody tr th {\n",
       "        vertical-align: top;\n",
       "    }\n",
       "\n",
       "    .dataframe thead th {\n",
       "        text-align: right;\n",
       "    }\n",
       "</style>\n",
       "<table border=\"1\" class=\"dataframe\">\n",
       "  <thead>\n",
       "    <tr style=\"text-align: right;\">\n",
       "      <th></th>\n",
       "      <th>tweet_id</th>\n",
       "      <th>in_reply_to_status_id</th>\n",
       "      <th>in_reply_to_user_id</th>\n",
       "      <th>timestamp</th>\n",
       "      <th>source</th>\n",
       "      <th>text</th>\n",
       "      <th>retweeted_status_id</th>\n",
       "      <th>retweeted_status_user_id</th>\n",
       "      <th>retweeted_status_timestamp</th>\n",
       "      <th>expanded_urls</th>\n",
       "      <th>rating_numerator</th>\n",
       "      <th>rating_denominator</th>\n",
       "      <th>name</th>\n",
       "      <th>doggo</th>\n",
       "      <th>floofer</th>\n",
       "      <th>pupper</th>\n",
       "      <th>puppo</th>\n",
       "    </tr>\n",
       "  </thead>\n",
       "  <tbody>\n",
       "    <tr>\n",
       "      <th>617</th>\n",
       "      <td>796387464403357696</td>\n",
       "      <td>NaN</td>\n",
       "      <td>NaN</td>\n",
       "      <td>2016-11-09 16:22:22 +0000</td>\n",
       "      <td>&lt;a href=\"http://twitter.com/download/iphone\" r...</td>\n",
       "      <td>This is Snicku. He's having trouble reading be...</td>\n",
       "      <td>NaN</td>\n",
       "      <td>NaN</td>\n",
       "      <td>NaN</td>\n",
       "      <td>https://twitter.com/dog_rates/status/796387464...</td>\n",
       "      <td>12</td>\n",
       "      <td>10</td>\n",
       "      <td>Snicku</td>\n",
       "      <td>None</td>\n",
       "      <td>None</td>\n",
       "      <td>None</td>\n",
       "      <td>None</td>\n",
       "    </tr>\n",
       "    <tr>\n",
       "      <th>2002</th>\n",
       "      <td>672481316919734272</td>\n",
       "      <td>NaN</td>\n",
       "      <td>NaN</td>\n",
       "      <td>2015-12-03 18:23:34 +0000</td>\n",
       "      <td>&lt;a href=\"http://twitter.com/download/iphone\" r...</td>\n",
       "      <td>Say hello to Jazz. She should be on the cover ...</td>\n",
       "      <td>NaN</td>\n",
       "      <td>NaN</td>\n",
       "      <td>NaN</td>\n",
       "      <td>https://twitter.com/dog_rates/status/672481316...</td>\n",
       "      <td>12</td>\n",
       "      <td>10</td>\n",
       "      <td>Jazz</td>\n",
       "      <td>None</td>\n",
       "      <td>None</td>\n",
       "      <td>pupper</td>\n",
       "      <td>None</td>\n",
       "    </tr>\n",
       "    <tr>\n",
       "      <th>1997</th>\n",
       "      <td>672591271085670400</td>\n",
       "      <td>NaN</td>\n",
       "      <td>NaN</td>\n",
       "      <td>2015-12-04 01:40:29 +0000</td>\n",
       "      <td>&lt;a href=\"http://twitter.com/download/iphone\" r...</td>\n",
       "      <td>Lots of pups here. All are Judea Hazelnuts. Ex...</td>\n",
       "      <td>NaN</td>\n",
       "      <td>NaN</td>\n",
       "      <td>NaN</td>\n",
       "      <td>https://twitter.com/dog_rates/status/672591271...</td>\n",
       "      <td>8</td>\n",
       "      <td>10</td>\n",
       "      <td>None</td>\n",
       "      <td>None</td>\n",
       "      <td>None</td>\n",
       "      <td>None</td>\n",
       "      <td>None</td>\n",
       "    </tr>\n",
       "    <tr>\n",
       "      <th>525</th>\n",
       "      <td>809084759137812480</td>\n",
       "      <td>NaN</td>\n",
       "      <td>NaN</td>\n",
       "      <td>2016-12-14 17:16:53 +0000</td>\n",
       "      <td>&lt;a href=\"http://twitter.com/download/iphone\" r...</td>\n",
       "      <td>This is Wallace. You said you brushed your tee...</td>\n",
       "      <td>NaN</td>\n",
       "      <td>NaN</td>\n",
       "      <td>NaN</td>\n",
       "      <td>https://twitter.com/dog_rates/status/809084759...</td>\n",
       "      <td>11</td>\n",
       "      <td>10</td>\n",
       "      <td>Wallace</td>\n",
       "      <td>None</td>\n",
       "      <td>None</td>\n",
       "      <td>None</td>\n",
       "      <td>None</td>\n",
       "    </tr>\n",
       "    <tr>\n",
       "      <th>827</th>\n",
       "      <td>769212283578875904</td>\n",
       "      <td>NaN</td>\n",
       "      <td>NaN</td>\n",
       "      <td>2016-08-26 16:37:54 +0000</td>\n",
       "      <td>&lt;a href=\"http://twitter.com/download/iphone\" r...</td>\n",
       "      <td>This is DonDon. He's way up but doesn't feel b...</td>\n",
       "      <td>NaN</td>\n",
       "      <td>NaN</td>\n",
       "      <td>NaN</td>\n",
       "      <td>https://twitter.com/dog_rates/status/769212283...</td>\n",
       "      <td>12</td>\n",
       "      <td>10</td>\n",
       "      <td>DonDon</td>\n",
       "      <td>None</td>\n",
       "      <td>None</td>\n",
       "      <td>None</td>\n",
       "      <td>None</td>\n",
       "    </tr>\n",
       "    <tr>\n",
       "      <th>1110</th>\n",
       "      <td>733822306246479872</td>\n",
       "      <td>NaN</td>\n",
       "      <td>NaN</td>\n",
       "      <td>2016-05-21 00:50:46 +0000</td>\n",
       "      <td>&lt;a href=\"http://twitter.com/download/iphone\" r...</td>\n",
       "      <td>This is Moose. He's a Polynesian Floofer. Dapp...</td>\n",
       "      <td>NaN</td>\n",
       "      <td>NaN</td>\n",
       "      <td>NaN</td>\n",
       "      <td>https://twitter.com/dog_rates/status/733822306...</td>\n",
       "      <td>10</td>\n",
       "      <td>10</td>\n",
       "      <td>Moose</td>\n",
       "      <td>None</td>\n",
       "      <td>floofer</td>\n",
       "      <td>None</td>\n",
       "      <td>None</td>\n",
       "    </tr>\n",
       "    <tr>\n",
       "      <th>1772</th>\n",
       "      <td>678278586130948096</td>\n",
       "      <td>NaN</td>\n",
       "      <td>NaN</td>\n",
       "      <td>2015-12-19 18:19:51 +0000</td>\n",
       "      <td>&lt;a href=\"http://twitter.com/download/iphone\" r...</td>\n",
       "      <td>Another spooky pupper here. Most definitely fl...</td>\n",
       "      <td>NaN</td>\n",
       "      <td>NaN</td>\n",
       "      <td>NaN</td>\n",
       "      <td>https://twitter.com/dog_rates/status/678278586...</td>\n",
       "      <td>10</td>\n",
       "      <td>10</td>\n",
       "      <td>None</td>\n",
       "      <td>None</td>\n",
       "      <td>None</td>\n",
       "      <td>pupper</td>\n",
       "      <td>None</td>\n",
       "    </tr>\n",
       "    <tr>\n",
       "      <th>358</th>\n",
       "      <td>830097400375152640</td>\n",
       "      <td>NaN</td>\n",
       "      <td>NaN</td>\n",
       "      <td>2017-02-10 16:53:37 +0000</td>\n",
       "      <td>&lt;a href=\"http://twitter.com/download/iphone\" r...</td>\n",
       "      <td>Meet Samson. He's absolute fluffy perfection. ...</td>\n",
       "      <td>NaN</td>\n",
       "      <td>NaN</td>\n",
       "      <td>NaN</td>\n",
       "      <td>https://www.gofundme.com/sick-baby-samson,http...</td>\n",
       "      <td>13</td>\n",
       "      <td>10</td>\n",
       "      <td>Samson</td>\n",
       "      <td>None</td>\n",
       "      <td>None</td>\n",
       "      <td>None</td>\n",
       "      <td>None</td>\n",
       "    </tr>\n",
       "    <tr>\n",
       "      <th>373</th>\n",
       "      <td>828376505180889089</td>\n",
       "      <td>NaN</td>\n",
       "      <td>NaN</td>\n",
       "      <td>2017-02-05 22:55:23 +0000</td>\n",
       "      <td>&lt;a href=\"http://twitter.com/download/iphone\" r...</td>\n",
       "      <td>This is Beebop. Her name means \"Good Dog\" in r...</td>\n",
       "      <td>NaN</td>\n",
       "      <td>NaN</td>\n",
       "      <td>NaN</td>\n",
       "      <td>https://twitter.com/dog_rates/status/828376505...</td>\n",
       "      <td>13</td>\n",
       "      <td>10</td>\n",
       "      <td>Beebop</td>\n",
       "      <td>None</td>\n",
       "      <td>None</td>\n",
       "      <td>None</td>\n",
       "      <td>None</td>\n",
       "    </tr>\n",
       "    <tr>\n",
       "      <th>1830</th>\n",
       "      <td>676219687039057920</td>\n",
       "      <td>NaN</td>\n",
       "      <td>NaN</td>\n",
       "      <td>2015-12-14 01:58:31 +0000</td>\n",
       "      <td>&lt;a href=\"http://twitter.com/download/iphone\" r...</td>\n",
       "      <td>This is Kenneth. He's stuck in a bubble. 10/10...</td>\n",
       "      <td>NaN</td>\n",
       "      <td>NaN</td>\n",
       "      <td>NaN</td>\n",
       "      <td>https://twitter.com/dog_rates/status/676219687...</td>\n",
       "      <td>10</td>\n",
       "      <td>10</td>\n",
       "      <td>Kenneth</td>\n",
       "      <td>None</td>\n",
       "      <td>None</td>\n",
       "      <td>None</td>\n",
       "      <td>None</td>\n",
       "    </tr>\n",
       "  </tbody>\n",
       "</table>\n",
       "</div>"
      ],
      "text/plain": [
       "                tweet_id  in_reply_to_status_id  in_reply_to_user_id  \\\n",
       "617   796387464403357696                    NaN                  NaN   \n",
       "2002  672481316919734272                    NaN                  NaN   \n",
       "1997  672591271085670400                    NaN                  NaN   \n",
       "525   809084759137812480                    NaN                  NaN   \n",
       "827   769212283578875904                    NaN                  NaN   \n",
       "1110  733822306246479872                    NaN                  NaN   \n",
       "1772  678278586130948096                    NaN                  NaN   \n",
       "358   830097400375152640                    NaN                  NaN   \n",
       "373   828376505180889089                    NaN                  NaN   \n",
       "1830  676219687039057920                    NaN                  NaN   \n",
       "\n",
       "                      timestamp  \\\n",
       "617   2016-11-09 16:22:22 +0000   \n",
       "2002  2015-12-03 18:23:34 +0000   \n",
       "1997  2015-12-04 01:40:29 +0000   \n",
       "525   2016-12-14 17:16:53 +0000   \n",
       "827   2016-08-26 16:37:54 +0000   \n",
       "1110  2016-05-21 00:50:46 +0000   \n",
       "1772  2015-12-19 18:19:51 +0000   \n",
       "358   2017-02-10 16:53:37 +0000   \n",
       "373   2017-02-05 22:55:23 +0000   \n",
       "1830  2015-12-14 01:58:31 +0000   \n",
       "\n",
       "                                                 source  \\\n",
       "617   <a href=\"http://twitter.com/download/iphone\" r...   \n",
       "2002  <a href=\"http://twitter.com/download/iphone\" r...   \n",
       "1997  <a href=\"http://twitter.com/download/iphone\" r...   \n",
       "525   <a href=\"http://twitter.com/download/iphone\" r...   \n",
       "827   <a href=\"http://twitter.com/download/iphone\" r...   \n",
       "1110  <a href=\"http://twitter.com/download/iphone\" r...   \n",
       "1772  <a href=\"http://twitter.com/download/iphone\" r...   \n",
       "358   <a href=\"http://twitter.com/download/iphone\" r...   \n",
       "373   <a href=\"http://twitter.com/download/iphone\" r...   \n",
       "1830  <a href=\"http://twitter.com/download/iphone\" r...   \n",
       "\n",
       "                                                   text  retweeted_status_id  \\\n",
       "617   This is Snicku. He's having trouble reading be...                  NaN   \n",
       "2002  Say hello to Jazz. She should be on the cover ...                  NaN   \n",
       "1997  Lots of pups here. All are Judea Hazelnuts. Ex...                  NaN   \n",
       "525   This is Wallace. You said you brushed your tee...                  NaN   \n",
       "827   This is DonDon. He's way up but doesn't feel b...                  NaN   \n",
       "1110  This is Moose. He's a Polynesian Floofer. Dapp...                  NaN   \n",
       "1772  Another spooky pupper here. Most definitely fl...                  NaN   \n",
       "358   Meet Samson. He's absolute fluffy perfection. ...                  NaN   \n",
       "373   This is Beebop. Her name means \"Good Dog\" in r...                  NaN   \n",
       "1830  This is Kenneth. He's stuck in a bubble. 10/10...                  NaN   \n",
       "\n",
       "      retweeted_status_user_id retweeted_status_timestamp  \\\n",
       "617                        NaN                        NaN   \n",
       "2002                       NaN                        NaN   \n",
       "1997                       NaN                        NaN   \n",
       "525                        NaN                        NaN   \n",
       "827                        NaN                        NaN   \n",
       "1110                       NaN                        NaN   \n",
       "1772                       NaN                        NaN   \n",
       "358                        NaN                        NaN   \n",
       "373                        NaN                        NaN   \n",
       "1830                       NaN                        NaN   \n",
       "\n",
       "                                          expanded_urls  rating_numerator  \\\n",
       "617   https://twitter.com/dog_rates/status/796387464...                12   \n",
       "2002  https://twitter.com/dog_rates/status/672481316...                12   \n",
       "1997  https://twitter.com/dog_rates/status/672591271...                 8   \n",
       "525   https://twitter.com/dog_rates/status/809084759...                11   \n",
       "827   https://twitter.com/dog_rates/status/769212283...                12   \n",
       "1110  https://twitter.com/dog_rates/status/733822306...                10   \n",
       "1772  https://twitter.com/dog_rates/status/678278586...                10   \n",
       "358   https://www.gofundme.com/sick-baby-samson,http...                13   \n",
       "373   https://twitter.com/dog_rates/status/828376505...                13   \n",
       "1830  https://twitter.com/dog_rates/status/676219687...                10   \n",
       "\n",
       "      rating_denominator     name doggo  floofer  pupper puppo  \n",
       "617                   10   Snicku  None     None    None  None  \n",
       "2002                  10     Jazz  None     None  pupper  None  \n",
       "1997                  10     None  None     None    None  None  \n",
       "525                   10  Wallace  None     None    None  None  \n",
       "827                   10   DonDon  None     None    None  None  \n",
       "1110                  10    Moose  None  floofer    None  None  \n",
       "1772                  10     None  None     None  pupper  None  \n",
       "358                   10   Samson  None     None    None  None  \n",
       "373                   10   Beebop  None     None    None  None  \n",
       "1830                  10  Kenneth  None     None    None  None  "
      ]
     },
     "execution_count": 183,
     "metadata": {},
     "output_type": "execute_result"
    }
   ],
   "source": [
    "t_archive.sample(10)"
   ]
  },
  {
   "cell_type": "code",
   "execution_count": 184,
   "metadata": {},
   "outputs": [
    {
     "name": "stdout",
     "output_type": "stream",
     "text": [
      "<class 'pandas.core.frame.DataFrame'>\n",
      "RangeIndex: 2356 entries, 0 to 2355\n",
      "Data columns (total 17 columns):\n",
      "tweet_id                      2356 non-null int64\n",
      "in_reply_to_status_id         78 non-null float64\n",
      "in_reply_to_user_id           78 non-null float64\n",
      "timestamp                     2356 non-null object\n",
      "source                        2356 non-null object\n",
      "text                          2356 non-null object\n",
      "retweeted_status_id           181 non-null float64\n",
      "retweeted_status_user_id      181 non-null float64\n",
      "retweeted_status_timestamp    181 non-null object\n",
      "expanded_urls                 2297 non-null object\n",
      "rating_numerator              2356 non-null int64\n",
      "rating_denominator            2356 non-null int64\n",
      "name                          2356 non-null object\n",
      "doggo                         2356 non-null object\n",
      "floofer                       2356 non-null object\n",
      "pupper                        2356 non-null object\n",
      "puppo                         2356 non-null object\n",
      "dtypes: float64(4), int64(3), object(10)\n",
      "memory usage: 313.0+ KB\n"
     ]
    }
   ],
   "source": [
    "t_archive.info()"
   ]
  },
  {
   "cell_type": "code",
   "execution_count": 185,
   "metadata": {},
   "outputs": [
    {
     "data": {
      "text/plain": [
       "count    2356.000000\n",
       "mean       13.126486\n",
       "std        45.876648\n",
       "min         0.000000\n",
       "25%        10.000000\n",
       "50%        11.000000\n",
       "75%        12.000000\n",
       "max      1776.000000\n",
       "Name: rating_numerator, dtype: float64"
      ]
     },
     "execution_count": 185,
     "metadata": {},
     "output_type": "execute_result"
    }
   ],
   "source": [
    "t_archive.rating_numerator.describe()"
   ]
  },
  {
   "cell_type": "code",
   "execution_count": 186,
   "metadata": {},
   "outputs": [
    {
     "data": {
      "text/plain": [
       "440"
      ]
     },
     "execution_count": 186,
     "metadata": {},
     "output_type": "execute_result"
    }
   ],
   "source": [
    "t_archive[t_archive.rating_numerator <10 ].count()[0]"
   ]
  },
  {
   "cell_type": "code",
   "execution_count": 187,
   "metadata": {},
   "outputs": [
    {
     "data": {
      "text/plain": [
       "45      883482846933004288\n",
       "229     848212111729840128\n",
       "315     835152434251116546\n",
       "387     826598799820865537\n",
       "462     817502432452313088\n",
       "485     814578408554463233\n",
       "599     798682547630837760\n",
       "605     798576900688019456\n",
       "730     781661882474196992\n",
       "745     780092040432480260\n",
       "764     777953400541634568\n",
       "765     777885040357281792\n",
       "784     775096608509886464\n",
       "814     771014301343748096\n",
       "835     768193404517830656\n",
       "845     766423258543644672\n",
       "859     763183847194451968\n",
       "860     763167063695355904\n",
       "883     760252756032651264\n",
       "896     759099523532779520\n",
       "906     758041019896193024\n",
       "912     757596066325864448\n",
       "915     757354760399941633\n",
       "936     753375668877008896\n",
       "946     752568224206688256\n",
       "948     752334515931054080\n",
       "956     751583847268179968\n",
       "964     750506206503038976\n",
       "966     750383411068534784\n",
       "987     749036806121881602\n",
       "               ...        \n",
       "2312    666776908487630848\n",
       "2314    666701168228331520\n",
       "2315    666691418707132416\n",
       "2316    666649482315059201\n",
       "2317    666644823164719104\n",
       "2319    666447344410484738\n",
       "2320    666437273139982337\n",
       "2322    666430724426358785\n",
       "2323    666428276349472768\n",
       "2326    666411507551481857\n",
       "2327    666407126856765440\n",
       "2328    666396247373291520\n",
       "2330    666362758909284353\n",
       "2331    666353288456101888\n",
       "2333    666337882303524864\n",
       "2334    666293911632134144\n",
       "2335    666287406224695296\n",
       "2338    666104133288665088\n",
       "2340    666099513787052032\n",
       "2341    666094000022159362\n",
       "2342    666082916733198337\n",
       "2344    666071193221509120\n",
       "2346    666058600524156928\n",
       "2347    666057090499244032\n",
       "2349    666051853826850816\n",
       "2351    666049248165822465\n",
       "2352    666044226329800704\n",
       "2353    666033412701032449\n",
       "2354    666029285002620928\n",
       "2355    666020888022790149\n",
       "Name: tweet_id, Length: 440, dtype: int64"
      ]
     },
     "execution_count": 187,
     "metadata": {},
     "output_type": "execute_result"
    }
   ],
   "source": [
    "t_archive[t_archive.rating_numerator <10 ].tweet_id"
   ]
  },
  {
   "cell_type": "code",
   "execution_count": 188,
   "metadata": {},
   "outputs": [
    {
     "data": {
      "text/plain": [
       "2333    9\n",
       "Name: rating_numerator, dtype: int64"
      ]
     },
     "execution_count": 188,
     "metadata": {},
     "output_type": "execute_result"
    }
   ],
   "source": [
    "t_archive.loc[(t_archive.tweet_id == 666337882303524864) , 'rating_numerator']"
   ]
  },
  {
   "cell_type": "code",
   "execution_count": 189,
   "metadata": {},
   "outputs": [
    {
     "data": {
      "text/plain": [
       "'This is an extremely rare horned Parthenon. Not amused. Wears shoes. Overall very nice. 9/10 would pet aggressively https://t.co/QpRjllzWAL'"
      ]
     },
     "execution_count": 189,
     "metadata": {},
     "output_type": "execute_result"
    }
   ],
   "source": [
    "t_archive.loc[2333, 'text']"
   ]
  },
  {
   "cell_type": "code",
   "execution_count": 190,
   "metadata": {},
   "outputs": [
    {
     "data": {
      "text/plain": [
       "count    2356.000000\n",
       "mean       10.455433\n",
       "std         6.745237\n",
       "min         0.000000\n",
       "25%        10.000000\n",
       "50%        10.000000\n",
       "75%        10.000000\n",
       "max       170.000000\n",
       "Name: rating_denominator, dtype: float64"
      ]
     },
     "execution_count": 190,
     "metadata": {},
     "output_type": "execute_result"
    }
   ],
   "source": [
    "t_archive.rating_denominator.describe()"
   ]
  },
  {
   "cell_type": "code",
   "execution_count": 191,
   "metadata": {},
   "outputs": [
    {
     "data": {
      "text/plain": [
       "313    835246439529840640\n",
       "Name: tweet_id, dtype: int64"
      ]
     },
     "execution_count": 191,
     "metadata": {},
     "output_type": "execute_result"
    }
   ],
   "source": [
    "t_archive[t_archive.rating_denominator == 0 ].tweet_id"
   ]
  },
  {
   "cell_type": "code",
   "execution_count": 192,
   "metadata": {},
   "outputs": [
    {
     "data": {
      "text/plain": [
       "\"@jonnysun @Lin_Manuel ok jomny I know you're excited but 960/00 isn't a valid rating, 13/10 is tho\""
      ]
     },
     "execution_count": 192,
     "metadata": {},
     "output_type": "execute_result"
    }
   ],
   "source": [
    "t_archive.loc[313, 'text']"
   ]
  },
  {
   "cell_type": "code",
   "execution_count": 193,
   "metadata": {},
   "outputs": [
    {
     "data": {
      "text/plain": [
       "23"
      ]
     },
     "execution_count": 193,
     "metadata": {},
     "output_type": "execute_result"
    }
   ],
   "source": [
    "t_archive[t_archive.rating_denominator != 10 ].count()[0]"
   ]
  },
  {
   "cell_type": "code",
   "execution_count": 194,
   "metadata": {},
   "outputs": [
    {
     "data": {
      "text/plain": [
       "None            745\n",
       "a                55\n",
       "Charlie          12\n",
       "Cooper           11\n",
       "Oliver           11\n",
       "Lucy             11\n",
       "Penny            10\n",
       "Tucker           10\n",
       "Lola             10\n",
       "Bo                9\n",
       "Winston           9\n",
       "the               8\n",
       "Sadie             8\n",
       "Bailey            7\n",
       "Daisy             7\n",
       "Buddy             7\n",
       "Toby              7\n",
       "an                7\n",
       "Oscar             6\n",
       "Dave              6\n",
       "Bella             6\n",
       "Jax               6\n",
       "Scout             6\n",
       "Stanley           6\n",
       "Koda              6\n",
       "Rusty             6\n",
       "Leo               6\n",
       "Jack              6\n",
       "Milo              6\n",
       "Louis             5\n",
       "               ... \n",
       "unacceptable      1\n",
       "Terrenth          1\n",
       "Geoff             1\n",
       "Zooey             1\n",
       "Donny             1\n",
       "Tedrick           1\n",
       "Zuzu              1\n",
       "Joey              1\n",
       "Rey               1\n",
       "Lilli             1\n",
       "DonDon            1\n",
       "Norman            1\n",
       "Karll             1\n",
       "Strider           1\n",
       "Pip               1\n",
       "Poppy             1\n",
       "Philippe          1\n",
       "Dot               1\n",
       "Izzy              1\n",
       "Ashleigh          1\n",
       "Karma             1\n",
       "Georgie           1\n",
       "Oddie             1\n",
       "Gilbert           1\n",
       "Major             1\n",
       "Shiloh            1\n",
       "Binky             1\n",
       "Billy             1\n",
       "Lucia             1\n",
       "Deacon            1\n",
       "Name: name, Length: 957, dtype: int64"
      ]
     },
     "execution_count": 194,
     "metadata": {},
     "output_type": "execute_result"
    }
   ],
   "source": [
    "t_archive.name.value_counts()"
   ]
  },
  {
   "cell_type": "markdown",
   "metadata": {},
   "source": [
    "B.Assesing The Tweet Image Predictions"
   ]
  },
  {
   "cell_type": "code",
   "execution_count": 195,
   "metadata": {},
   "outputs": [
    {
     "data": {
      "text/html": [
       "<div>\n",
       "<style scoped>\n",
       "    .dataframe tbody tr th:only-of-type {\n",
       "        vertical-align: middle;\n",
       "    }\n",
       "\n",
       "    .dataframe tbody tr th {\n",
       "        vertical-align: top;\n",
       "    }\n",
       "\n",
       "    .dataframe thead th {\n",
       "        text-align: right;\n",
       "    }\n",
       "</style>\n",
       "<table border=\"1\" class=\"dataframe\">\n",
       "  <thead>\n",
       "    <tr style=\"text-align: right;\">\n",
       "      <th></th>\n",
       "      <th>tweet_id</th>\n",
       "      <th>jpg_url</th>\n",
       "      <th>img_num</th>\n",
       "      <th>p1</th>\n",
       "      <th>p1_conf</th>\n",
       "      <th>p1_dog</th>\n",
       "      <th>p2</th>\n",
       "      <th>p2_conf</th>\n",
       "      <th>p2_dog</th>\n",
       "      <th>p3</th>\n",
       "      <th>p3_conf</th>\n",
       "      <th>p3_dog</th>\n",
       "    </tr>\n",
       "  </thead>\n",
       "  <tbody>\n",
       "    <tr>\n",
       "      <th>0</th>\n",
       "      <td>666020888022790149</td>\n",
       "      <td>https://pbs.twimg.com/media/CT4udn0WwAA0aMy.jpg</td>\n",
       "      <td>1</td>\n",
       "      <td>Welsh_springer_spaniel</td>\n",
       "      <td>0.465074</td>\n",
       "      <td>True</td>\n",
       "      <td>collie</td>\n",
       "      <td>0.156665</td>\n",
       "      <td>True</td>\n",
       "      <td>Shetland_sheepdog</td>\n",
       "      <td>0.061428</td>\n",
       "      <td>True</td>\n",
       "    </tr>\n",
       "    <tr>\n",
       "      <th>1</th>\n",
       "      <td>666029285002620928</td>\n",
       "      <td>https://pbs.twimg.com/media/CT42GRgUYAA5iDo.jpg</td>\n",
       "      <td>1</td>\n",
       "      <td>redbone</td>\n",
       "      <td>0.506826</td>\n",
       "      <td>True</td>\n",
       "      <td>miniature_pinscher</td>\n",
       "      <td>0.074192</td>\n",
       "      <td>True</td>\n",
       "      <td>Rhodesian_ridgeback</td>\n",
       "      <td>0.072010</td>\n",
       "      <td>True</td>\n",
       "    </tr>\n",
       "    <tr>\n",
       "      <th>2</th>\n",
       "      <td>666033412701032449</td>\n",
       "      <td>https://pbs.twimg.com/media/CT4521TWwAEvMyu.jpg</td>\n",
       "      <td>1</td>\n",
       "      <td>German_shepherd</td>\n",
       "      <td>0.596461</td>\n",
       "      <td>True</td>\n",
       "      <td>malinois</td>\n",
       "      <td>0.138584</td>\n",
       "      <td>True</td>\n",
       "      <td>bloodhound</td>\n",
       "      <td>0.116197</td>\n",
       "      <td>True</td>\n",
       "    </tr>\n",
       "    <tr>\n",
       "      <th>3</th>\n",
       "      <td>666044226329800704</td>\n",
       "      <td>https://pbs.twimg.com/media/CT5Dr8HUEAA-lEu.jpg</td>\n",
       "      <td>1</td>\n",
       "      <td>Rhodesian_ridgeback</td>\n",
       "      <td>0.408143</td>\n",
       "      <td>True</td>\n",
       "      <td>redbone</td>\n",
       "      <td>0.360687</td>\n",
       "      <td>True</td>\n",
       "      <td>miniature_pinscher</td>\n",
       "      <td>0.222752</td>\n",
       "      <td>True</td>\n",
       "    </tr>\n",
       "    <tr>\n",
       "      <th>4</th>\n",
       "      <td>666049248165822465</td>\n",
       "      <td>https://pbs.twimg.com/media/CT5IQmsXIAAKY4A.jpg</td>\n",
       "      <td>1</td>\n",
       "      <td>miniature_pinscher</td>\n",
       "      <td>0.560311</td>\n",
       "      <td>True</td>\n",
       "      <td>Rottweiler</td>\n",
       "      <td>0.243682</td>\n",
       "      <td>True</td>\n",
       "      <td>Doberman</td>\n",
       "      <td>0.154629</td>\n",
       "      <td>True</td>\n",
       "    </tr>\n",
       "  </tbody>\n",
       "</table>\n",
       "</div>"
      ],
      "text/plain": [
       "             tweet_id                                          jpg_url  \\\n",
       "0  666020888022790149  https://pbs.twimg.com/media/CT4udn0WwAA0aMy.jpg   \n",
       "1  666029285002620928  https://pbs.twimg.com/media/CT42GRgUYAA5iDo.jpg   \n",
       "2  666033412701032449  https://pbs.twimg.com/media/CT4521TWwAEvMyu.jpg   \n",
       "3  666044226329800704  https://pbs.twimg.com/media/CT5Dr8HUEAA-lEu.jpg   \n",
       "4  666049248165822465  https://pbs.twimg.com/media/CT5IQmsXIAAKY4A.jpg   \n",
       "\n",
       "   img_num                      p1   p1_conf  p1_dog                  p2  \\\n",
       "0        1  Welsh_springer_spaniel  0.465074    True              collie   \n",
       "1        1                 redbone  0.506826    True  miniature_pinscher   \n",
       "2        1         German_shepherd  0.596461    True            malinois   \n",
       "3        1     Rhodesian_ridgeback  0.408143    True             redbone   \n",
       "4        1      miniature_pinscher  0.560311    True          Rottweiler   \n",
       "\n",
       "    p2_conf  p2_dog                   p3   p3_conf  p3_dog  \n",
       "0  0.156665    True    Shetland_sheepdog  0.061428    True  \n",
       "1  0.074192    True  Rhodesian_ridgeback  0.072010    True  \n",
       "2  0.138584    True           bloodhound  0.116197    True  \n",
       "3  0.360687    True   miniature_pinscher  0.222752    True  \n",
       "4  0.243682    True             Doberman  0.154629    True  "
      ]
     },
     "execution_count": 195,
     "metadata": {},
     "output_type": "execute_result"
    }
   ],
   "source": [
    "image_predictions = pd.read_csv('image-predictions.tsv', sep = '\\t' )\n",
    "image_predictions.head()"
   ]
  },
  {
   "cell_type": "code",
   "execution_count": 196,
   "metadata": {},
   "outputs": [
    {
     "data": {
      "text/html": [
       "<div>\n",
       "<style scoped>\n",
       "    .dataframe tbody tr th:only-of-type {\n",
       "        vertical-align: middle;\n",
       "    }\n",
       "\n",
       "    .dataframe tbody tr th {\n",
       "        vertical-align: top;\n",
       "    }\n",
       "\n",
       "    .dataframe thead th {\n",
       "        text-align: right;\n",
       "    }\n",
       "</style>\n",
       "<table border=\"1\" class=\"dataframe\">\n",
       "  <thead>\n",
       "    <tr style=\"text-align: right;\">\n",
       "      <th></th>\n",
       "      <th>tweet_id</th>\n",
       "      <th>jpg_url</th>\n",
       "      <th>img_num</th>\n",
       "      <th>p1</th>\n",
       "      <th>p1_conf</th>\n",
       "      <th>p1_dog</th>\n",
       "      <th>p2</th>\n",
       "      <th>p2_conf</th>\n",
       "      <th>p2_dog</th>\n",
       "      <th>p3</th>\n",
       "      <th>p3_conf</th>\n",
       "      <th>p3_dog</th>\n",
       "    </tr>\n",
       "  </thead>\n",
       "  <tbody>\n",
       "    <tr>\n",
       "      <th>348</th>\n",
       "      <td>672481316919734272</td>\n",
       "      <td>https://pbs.twimg.com/media/CVUiMUeW4AEQgkU.jpg</td>\n",
       "      <td>1</td>\n",
       "      <td>Border_collie</td>\n",
       "      <td>0.599454</td>\n",
       "      <td>True</td>\n",
       "      <td>collie</td>\n",
       "      <td>0.106227</td>\n",
       "      <td>True</td>\n",
       "      <td>Shetland_sheepdog</td>\n",
       "      <td>0.094465</td>\n",
       "      <td>True</td>\n",
       "    </tr>\n",
       "    <tr>\n",
       "      <th>845</th>\n",
       "      <td>695095422348574720</td>\n",
       "      <td>https://pbs.twimg.com/media/CaV5mRDXEAAR8iG.jpg</td>\n",
       "      <td>1</td>\n",
       "      <td>papillon</td>\n",
       "      <td>0.227784</td>\n",
       "      <td>True</td>\n",
       "      <td>Chihuahua</td>\n",
       "      <td>0.218128</td>\n",
       "      <td>True</td>\n",
       "      <td>Border_collie</td>\n",
       "      <td>0.093457</td>\n",
       "      <td>True</td>\n",
       "    </tr>\n",
       "    <tr>\n",
       "      <th>1700</th>\n",
       "      <td>817056546584727552</td>\n",
       "      <td>https://pbs.twimg.com/media/C1bEl4zVIAASj7_.jpg</td>\n",
       "      <td>1</td>\n",
       "      <td>kelpie</td>\n",
       "      <td>0.864415</td>\n",
       "      <td>True</td>\n",
       "      <td>French_bulldog</td>\n",
       "      <td>0.097456</td>\n",
       "      <td>True</td>\n",
       "      <td>German_shepherd</td>\n",
       "      <td>0.008526</td>\n",
       "      <td>True</td>\n",
       "    </tr>\n",
       "    <tr>\n",
       "      <th>1487</th>\n",
       "      <td>782021823840026624</td>\n",
       "      <td>https://pbs.twimg.com/media/CdHwZd0VIAA4792.jpg</td>\n",
       "      <td>1</td>\n",
       "      <td>golden_retriever</td>\n",
       "      <td>0.383223</td>\n",
       "      <td>True</td>\n",
       "      <td>cocker_spaniel</td>\n",
       "      <td>0.165930</td>\n",
       "      <td>True</td>\n",
       "      <td>Chesapeake_Bay_retriever</td>\n",
       "      <td>0.118199</td>\n",
       "      <td>True</td>\n",
       "    </tr>\n",
       "    <tr>\n",
       "      <th>167</th>\n",
       "      <td>668986018524233728</td>\n",
       "      <td>https://pbs.twimg.com/media/CUi3PIrWoAAPvPT.jpg</td>\n",
       "      <td>1</td>\n",
       "      <td>doormat</td>\n",
       "      <td>0.976103</td>\n",
       "      <td>False</td>\n",
       "      <td>Chihuahua</td>\n",
       "      <td>0.005640</td>\n",
       "      <td>True</td>\n",
       "      <td>Norfolk_terrier</td>\n",
       "      <td>0.003913</td>\n",
       "      <td>True</td>\n",
       "    </tr>\n",
       "    <tr>\n",
       "      <th>463</th>\n",
       "      <td>674999807681908736</td>\n",
       "      <td>https://pbs.twimg.com/media/CV4UvgNUkAEEnZd.jpg</td>\n",
       "      <td>1</td>\n",
       "      <td>Rottweiler</td>\n",
       "      <td>0.591829</td>\n",
       "      <td>True</td>\n",
       "      <td>Doberman</td>\n",
       "      <td>0.204544</td>\n",
       "      <td>True</td>\n",
       "      <td>black-and-tan_coonhound</td>\n",
       "      <td>0.078602</td>\n",
       "      <td>True</td>\n",
       "    </tr>\n",
       "    <tr>\n",
       "      <th>1107</th>\n",
       "      <td>723673163800948736</td>\n",
       "      <td>https://pbs.twimg.com/media/CgsA5eFWgAAu0qn.jpg</td>\n",
       "      <td>1</td>\n",
       "      <td>golden_retriever</td>\n",
       "      <td>0.839390</td>\n",
       "      <td>True</td>\n",
       "      <td>Labrador_retriever</td>\n",
       "      <td>0.065706</td>\n",
       "      <td>True</td>\n",
       "      <td>hand_blower</td>\n",
       "      <td>0.012941</td>\n",
       "      <td>False</td>\n",
       "    </tr>\n",
       "    <tr>\n",
       "      <th>1422</th>\n",
       "      <td>772114945936949249</td>\n",
       "      <td>https://pbs.twimg.com/media/Crcacf9WgAEcrMh.jpg</td>\n",
       "      <td>1</td>\n",
       "      <td>Chihuahua</td>\n",
       "      <td>0.803293</td>\n",
       "      <td>True</td>\n",
       "      <td>toy_terrier</td>\n",
       "      <td>0.052980</td>\n",
       "      <td>True</td>\n",
       "      <td>Italian_greyhound</td>\n",
       "      <td>0.037239</td>\n",
       "      <td>True</td>\n",
       "    </tr>\n",
       "    <tr>\n",
       "      <th>2034</th>\n",
       "      <td>883838122936631299</td>\n",
       "      <td>https://pbs.twimg.com/media/DEQGFgAXUAAEvfi.jpg</td>\n",
       "      <td>1</td>\n",
       "      <td>Doberman</td>\n",
       "      <td>0.610946</td>\n",
       "      <td>True</td>\n",
       "      <td>miniature_pinscher</td>\n",
       "      <td>0.299603</td>\n",
       "      <td>True</td>\n",
       "      <td>kelpie</td>\n",
       "      <td>0.063020</td>\n",
       "      <td>True</td>\n",
       "    </tr>\n",
       "    <tr>\n",
       "      <th>429</th>\n",
       "      <td>674265582246694913</td>\n",
       "      <td>https://pbs.twimg.com/media/CVt49k_WsAAtNYC.jpg</td>\n",
       "      <td>1</td>\n",
       "      <td>slug</td>\n",
       "      <td>0.998075</td>\n",
       "      <td>False</td>\n",
       "      <td>ice_lolly</td>\n",
       "      <td>0.000984</td>\n",
       "      <td>False</td>\n",
       "      <td>leafhopper</td>\n",
       "      <td>0.000097</td>\n",
       "      <td>False</td>\n",
       "    </tr>\n",
       "  </tbody>\n",
       "</table>\n",
       "</div>"
      ],
      "text/plain": [
       "                tweet_id                                          jpg_url  \\\n",
       "348   672481316919734272  https://pbs.twimg.com/media/CVUiMUeW4AEQgkU.jpg   \n",
       "845   695095422348574720  https://pbs.twimg.com/media/CaV5mRDXEAAR8iG.jpg   \n",
       "1700  817056546584727552  https://pbs.twimg.com/media/C1bEl4zVIAASj7_.jpg   \n",
       "1487  782021823840026624  https://pbs.twimg.com/media/CdHwZd0VIAA4792.jpg   \n",
       "167   668986018524233728  https://pbs.twimg.com/media/CUi3PIrWoAAPvPT.jpg   \n",
       "463   674999807681908736  https://pbs.twimg.com/media/CV4UvgNUkAEEnZd.jpg   \n",
       "1107  723673163800948736  https://pbs.twimg.com/media/CgsA5eFWgAAu0qn.jpg   \n",
       "1422  772114945936949249  https://pbs.twimg.com/media/Crcacf9WgAEcrMh.jpg   \n",
       "2034  883838122936631299  https://pbs.twimg.com/media/DEQGFgAXUAAEvfi.jpg   \n",
       "429   674265582246694913  https://pbs.twimg.com/media/CVt49k_WsAAtNYC.jpg   \n",
       "\n",
       "      img_num                p1   p1_conf  p1_dog                  p2  \\\n",
       "348         1     Border_collie  0.599454    True              collie   \n",
       "845         1          papillon  0.227784    True           Chihuahua   \n",
       "1700        1            kelpie  0.864415    True      French_bulldog   \n",
       "1487        1  golden_retriever  0.383223    True      cocker_spaniel   \n",
       "167         1           doormat  0.976103   False           Chihuahua   \n",
       "463         1        Rottweiler  0.591829    True            Doberman   \n",
       "1107        1  golden_retriever  0.839390    True  Labrador_retriever   \n",
       "1422        1         Chihuahua  0.803293    True         toy_terrier   \n",
       "2034        1          Doberman  0.610946    True  miniature_pinscher   \n",
       "429         1              slug  0.998075   False           ice_lolly   \n",
       "\n",
       "       p2_conf  p2_dog                        p3   p3_conf  p3_dog  \n",
       "348   0.106227    True         Shetland_sheepdog  0.094465    True  \n",
       "845   0.218128    True             Border_collie  0.093457    True  \n",
       "1700  0.097456    True           German_shepherd  0.008526    True  \n",
       "1487  0.165930    True  Chesapeake_Bay_retriever  0.118199    True  \n",
       "167   0.005640    True           Norfolk_terrier  0.003913    True  \n",
       "463   0.204544    True   black-and-tan_coonhound  0.078602    True  \n",
       "1107  0.065706    True               hand_blower  0.012941   False  \n",
       "1422  0.052980    True         Italian_greyhound  0.037239    True  \n",
       "2034  0.299603    True                    kelpie  0.063020    True  \n",
       "429   0.000984   False                leafhopper  0.000097   False  "
      ]
     },
     "execution_count": 196,
     "metadata": {},
     "output_type": "execute_result"
    }
   ],
   "source": [
    "image_predictions.sample(10)"
   ]
  },
  {
   "cell_type": "code",
   "execution_count": 197,
   "metadata": {},
   "outputs": [
    {
     "data": {
      "text/plain": [
       "'https://pbs.twimg.com/ext_tw_video_thumb/754481405627957248/pu/img/YY1eBDOlP9QFC4Bj.jpg'"
      ]
     },
     "execution_count": 197,
     "metadata": {},
     "output_type": "execute_result"
    }
   ],
   "source": [
    "image_predictions.loc[1312, 'jpg_url'] #identified as bathtup."
   ]
  },
  {
   "cell_type": "code",
   "execution_count": 198,
   "metadata": {},
   "outputs": [
    {
     "data": {
      "text/html": [
       "<img src=\"https://pbs.twimg.com/ext_tw_video_thumb/754481405627957248/pu/img/YY1eBDOlP9QFC4Bj.jpg\"/>"
      ],
      "text/plain": [
       "<IPython.core.display.Image object>"
      ]
     },
     "execution_count": 198,
     "metadata": {},
     "output_type": "execute_result"
    }
   ],
   "source": [
    "from IPython.display import Image\n",
    "Image(url ='https://pbs.twimg.com/ext_tw_video_thumb/754481405627957248/pu/img/YY1eBDOlP9QFC4Bj.jpg')"
   ]
  },
  {
   "cell_type": "code",
   "execution_count": 199,
   "metadata": {},
   "outputs": [
    {
     "name": "stdout",
     "output_type": "stream",
     "text": [
      "<class 'pandas.core.frame.DataFrame'>\n",
      "RangeIndex: 2075 entries, 0 to 2074\n",
      "Data columns (total 12 columns):\n",
      "tweet_id    2075 non-null int64\n",
      "jpg_url     2075 non-null object\n",
      "img_num     2075 non-null int64\n",
      "p1          2075 non-null object\n",
      "p1_conf     2075 non-null float64\n",
      "p1_dog      2075 non-null bool\n",
      "p2          2075 non-null object\n",
      "p2_conf     2075 non-null float64\n",
      "p2_dog      2075 non-null bool\n",
      "p3          2075 non-null object\n",
      "p3_conf     2075 non-null float64\n",
      "p3_dog      2075 non-null bool\n",
      "dtypes: bool(3), float64(3), int64(2), object(4)\n",
      "memory usage: 152.1+ KB\n"
     ]
    }
   ],
   "source": [
    "image_predictions.info()"
   ]
  },
  {
   "cell_type": "markdown",
   "metadata": {},
   "source": [
    "C.Assesing The Tweet Tata Trom Twitter API"
   ]
  },
  {
   "cell_type": "code",
   "execution_count": 200,
   "metadata": {},
   "outputs": [
    {
     "data": {
      "text/html": [
       "<div>\n",
       "<style scoped>\n",
       "    .dataframe tbody tr th:only-of-type {\n",
       "        vertical-align: middle;\n",
       "    }\n",
       "\n",
       "    .dataframe tbody tr th {\n",
       "        vertical-align: top;\n",
       "    }\n",
       "\n",
       "    .dataframe thead th {\n",
       "        text-align: right;\n",
       "    }\n",
       "</style>\n",
       "<table border=\"1\" class=\"dataframe\">\n",
       "  <thead>\n",
       "    <tr style=\"text-align: right;\">\n",
       "      <th></th>\n",
       "      <th>favorite_count</th>\n",
       "      <th>retweet_count</th>\n",
       "      <th>tweet_id</th>\n",
       "      <th>user_count</th>\n",
       "    </tr>\n",
       "  </thead>\n",
       "  <tbody>\n",
       "    <tr>\n",
       "      <th>0</th>\n",
       "      <td>39467</td>\n",
       "      <td>8853</td>\n",
       "      <td>892420643555336193</td>\n",
       "      <td>3200889</td>\n",
       "    </tr>\n",
       "    <tr>\n",
       "      <th>1</th>\n",
       "      <td>33819</td>\n",
       "      <td>6514</td>\n",
       "      <td>892177421306343426</td>\n",
       "      <td>3200889</td>\n",
       "    </tr>\n",
       "    <tr>\n",
       "      <th>2</th>\n",
       "      <td>25461</td>\n",
       "      <td>4328</td>\n",
       "      <td>891815181378084864</td>\n",
       "      <td>3200889</td>\n",
       "    </tr>\n",
       "    <tr>\n",
       "      <th>3</th>\n",
       "      <td>42908</td>\n",
       "      <td>8964</td>\n",
       "      <td>891689557279858688</td>\n",
       "      <td>3200889</td>\n",
       "    </tr>\n",
       "    <tr>\n",
       "      <th>4</th>\n",
       "      <td>41048</td>\n",
       "      <td>9774</td>\n",
       "      <td>891327558926688256</td>\n",
       "      <td>3200889</td>\n",
       "    </tr>\n",
       "  </tbody>\n",
       "</table>\n",
       "</div>"
      ],
      "text/plain": [
       "   favorite_count  retweet_count            tweet_id  user_count\n",
       "0           39467           8853  892420643555336193     3200889\n",
       "1           33819           6514  892177421306343426     3200889\n",
       "2           25461           4328  891815181378084864     3200889\n",
       "3           42908           8964  891689557279858688     3200889\n",
       "4           41048           9774  891327558926688256     3200889"
      ]
     },
     "execution_count": 200,
     "metadata": {},
     "output_type": "execute_result"
    }
   ],
   "source": [
    "tweet_data.head()"
   ]
  },
  {
   "cell_type": "code",
   "execution_count": 201,
   "metadata": {},
   "outputs": [
    {
     "data": {
      "text/html": [
       "<div>\n",
       "<style scoped>\n",
       "    .dataframe tbody tr th:only-of-type {\n",
       "        vertical-align: middle;\n",
       "    }\n",
       "\n",
       "    .dataframe tbody tr th {\n",
       "        vertical-align: top;\n",
       "    }\n",
       "\n",
       "    .dataframe thead th {\n",
       "        text-align: right;\n",
       "    }\n",
       "</style>\n",
       "<table border=\"1\" class=\"dataframe\">\n",
       "  <thead>\n",
       "    <tr style=\"text-align: right;\">\n",
       "      <th></th>\n",
       "      <th>favorite_count</th>\n",
       "      <th>retweet_count</th>\n",
       "      <th>tweet_id</th>\n",
       "      <th>user_count</th>\n",
       "    </tr>\n",
       "  </thead>\n",
       "  <tbody>\n",
       "    <tr>\n",
       "      <th>2337</th>\n",
       "      <td>81</td>\n",
       "      <td>16</td>\n",
       "      <td>666102155909144576</td>\n",
       "      <td>3201018</td>\n",
       "    </tr>\n",
       "    <tr>\n",
       "      <th>988</th>\n",
       "      <td>3047</td>\n",
       "      <td>1067</td>\n",
       "      <td>748705597323898880</td>\n",
       "      <td>3200943</td>\n",
       "    </tr>\n",
       "    <tr>\n",
       "      <th>2165</th>\n",
       "      <td>390</td>\n",
       "      <td>134</td>\n",
       "      <td>669359674819481600</td>\n",
       "      <td>3201012</td>\n",
       "    </tr>\n",
       "    <tr>\n",
       "      <th>453</th>\n",
       "      <td>12127</td>\n",
       "      <td>2873</td>\n",
       "      <td>818536468981415936</td>\n",
       "      <td>3200894</td>\n",
       "    </tr>\n",
       "    <tr>\n",
       "      <th>173</th>\n",
       "      <td>16524</td>\n",
       "      <td>3154</td>\n",
       "      <td>858107933456039936</td>\n",
       "      <td>3200891</td>\n",
       "    </tr>\n",
       "    <tr>\n",
       "      <th>841</th>\n",
       "      <td>2872</td>\n",
       "      <td>438</td>\n",
       "      <td>766714921925144576</td>\n",
       "      <td>3200906</td>\n",
       "    </tr>\n",
       "    <tr>\n",
       "      <th>1458</th>\n",
       "      <td>2918</td>\n",
       "      <td>885</td>\n",
       "      <td>695051054296211456</td>\n",
       "      <td>3200950</td>\n",
       "    </tr>\n",
       "    <tr>\n",
       "      <th>70</th>\n",
       "      <td>19763</td>\n",
       "      <td>4319</td>\n",
       "      <td>878776093423087618</td>\n",
       "      <td>3200892</td>\n",
       "    </tr>\n",
       "    <tr>\n",
       "      <th>719</th>\n",
       "      <td>0</td>\n",
       "      <td>6533</td>\n",
       "      <td>783347506784731136</td>\n",
       "      <td>3200901</td>\n",
       "    </tr>\n",
       "    <tr>\n",
       "      <th>621</th>\n",
       "      <td>9469</td>\n",
       "      <td>2703</td>\n",
       "      <td>796080075804475393</td>\n",
       "      <td>3200900</td>\n",
       "    </tr>\n",
       "  </tbody>\n",
       "</table>\n",
       "</div>"
      ],
      "text/plain": [
       "      favorite_count  retweet_count            tweet_id  user_count\n",
       "2337              81             16  666102155909144576     3201018\n",
       "988             3047           1067  748705597323898880     3200943\n",
       "2165             390            134  669359674819481600     3201012\n",
       "453            12127           2873  818536468981415936     3200894\n",
       "173            16524           3154  858107933456039936     3200891\n",
       "841             2872            438  766714921925144576     3200906\n",
       "1458            2918            885  695051054296211456     3200950\n",
       "70             19763           4319  878776093423087618     3200892\n",
       "719                0           6533  783347506784731136     3200901\n",
       "621             9469           2703  796080075804475393     3200900"
      ]
     },
     "execution_count": 201,
     "metadata": {},
     "output_type": "execute_result"
    }
   ],
   "source": [
    "tweet_data.sample(10)"
   ]
  },
  {
   "cell_type": "code",
   "execution_count": 202,
   "metadata": {},
   "outputs": [
    {
     "name": "stdout",
     "output_type": "stream",
     "text": [
      "<class 'pandas.core.frame.DataFrame'>\n",
      "RangeIndex: 2354 entries, 0 to 2353\n",
      "Data columns (total 4 columns):\n",
      "favorite_count    2354 non-null int64\n",
      "retweet_count     2354 non-null int64\n",
      "tweet_id          2354 non-null int64\n",
      "user_count        2354 non-null int64\n",
      "dtypes: int64(4)\n",
      "memory usage: 73.6 KB\n"
     ]
    }
   ],
   "source": [
    "tweet_data.info()"
   ]
  },
  {
   "cell_type": "markdown",
   "metadata": {},
   "source": [
    "# Tidiness\n",
    "\n",
    "T1. For dog stage, there are some rows with multiple dog stages.\n",
    "\n",
    "T2. all data is related but divided into 3 separate dataframes.\n",
    "\n",
    "\n",
    " # Quality\n",
    "\n",
    "A) Enhanced Twitter Archive\n",
    "\n",
    "1.there are 181 retweets as indicated by retweeted status_id.\n",
    "\n",
    "2.Name column have None instead of NaN and too many unvalid values.\n",
    "\n",
    "3.invalid tweet_id data type(integer instead of string).\n",
    "\n",
    "4.invalid timestamp data type(string not datetine).\n",
    "\n",
    "5.440 rating numerators less than 10 .\n",
    "\n",
    "6.raw 313 has no denominators.\n",
    "\n",
    "7.23 rating denominators no equal 10.\n",
    "\n",
    "B) Tweet Image Predictions.\n",
    "\n",
    "1.underscores are used in multi-world names in columns p1,p2&p3 instead of spaces.\n",
    "\n",
    "2 some P names started with an uppercase letter while other started with lowercase\n",
    "\n",
    "c) Tweet Data From Twitter Api\n",
    "\n",
    "1.missing entires (only 2354 entires instead of 2356)\n"
   ]
  },
  {
   "cell_type": "markdown",
   "metadata": {},
   "source": [
    "# 4.Cleaning Data"
   ]
  },
  {
   "cell_type": "markdown",
   "metadata": {},
   "source": [
    "A. creating dataframe copies"
   ]
  },
  {
   "cell_type": "code",
   "execution_count": 236,
   "metadata": {},
   "outputs": [],
   "source": [
    "clean_t_archive = t_archive.copy()\n",
    "clean_image_predictions = image_predictions.copy()\n",
    "clean_tweet_data = tweet_data.copy()"
   ]
  },
  {
   "cell_type": "code",
   "execution_count": 237,
   "metadata": {},
   "outputs": [
    {
     "data": {
      "text/html": [
       "<div>\n",
       "<style scoped>\n",
       "    .dataframe tbody tr th:only-of-type {\n",
       "        vertical-align: middle;\n",
       "    }\n",
       "\n",
       "    .dataframe tbody tr th {\n",
       "        vertical-align: top;\n",
       "    }\n",
       "\n",
       "    .dataframe thead th {\n",
       "        text-align: right;\n",
       "    }\n",
       "</style>\n",
       "<table border=\"1\" class=\"dataframe\">\n",
       "  <thead>\n",
       "    <tr style=\"text-align: right;\">\n",
       "      <th></th>\n",
       "      <th>tweet_id</th>\n",
       "      <th>in_reply_to_status_id</th>\n",
       "      <th>in_reply_to_user_id</th>\n",
       "      <th>timestamp</th>\n",
       "      <th>source</th>\n",
       "      <th>text</th>\n",
       "      <th>retweeted_status_id</th>\n",
       "      <th>retweeted_status_user_id</th>\n",
       "      <th>retweeted_status_timestamp</th>\n",
       "      <th>expanded_urls</th>\n",
       "      <th>rating_numerator</th>\n",
       "      <th>rating_denominator</th>\n",
       "      <th>name</th>\n",
       "      <th>doggo</th>\n",
       "      <th>floofer</th>\n",
       "      <th>pupper</th>\n",
       "      <th>puppo</th>\n",
       "    </tr>\n",
       "  </thead>\n",
       "  <tbody>\n",
       "    <tr>\n",
       "      <th>0</th>\n",
       "      <td>892420643555336193</td>\n",
       "      <td>NaN</td>\n",
       "      <td>NaN</td>\n",
       "      <td>2017-08-01 16:23:56 +0000</td>\n",
       "      <td>&lt;a href=\"http://twitter.com/download/iphone\" r...</td>\n",
       "      <td>This is Phineas. He's a mystical boy. Only eve...</td>\n",
       "      <td>NaN</td>\n",
       "      <td>NaN</td>\n",
       "      <td>NaN</td>\n",
       "      <td>https://twitter.com/dog_rates/status/892420643...</td>\n",
       "      <td>13</td>\n",
       "      <td>10</td>\n",
       "      <td>Phineas</td>\n",
       "      <td>None</td>\n",
       "      <td>None</td>\n",
       "      <td>None</td>\n",
       "      <td>None</td>\n",
       "    </tr>\n",
       "  </tbody>\n",
       "</table>\n",
       "</div>"
      ],
      "text/plain": [
       "             tweet_id  in_reply_to_status_id  in_reply_to_user_id  \\\n",
       "0  892420643555336193                    NaN                  NaN   \n",
       "\n",
       "                   timestamp  \\\n",
       "0  2017-08-01 16:23:56 +0000   \n",
       "\n",
       "                                              source  \\\n",
       "0  <a href=\"http://twitter.com/download/iphone\" r...   \n",
       "\n",
       "                                                text  retweeted_status_id  \\\n",
       "0  This is Phineas. He's a mystical boy. Only eve...                  NaN   \n",
       "\n",
       "   retweeted_status_user_id retweeted_status_timestamp  \\\n",
       "0                       NaN                        NaN   \n",
       "\n",
       "                                       expanded_urls  rating_numerator  \\\n",
       "0  https://twitter.com/dog_rates/status/892420643...                13   \n",
       "\n",
       "   rating_denominator     name doggo floofer pupper puppo  \n",
       "0                  10  Phineas  None    None   None  None  "
      ]
     },
     "execution_count": 237,
     "metadata": {},
     "output_type": "execute_result"
    }
   ],
   "source": [
    "clean_t_archive.head(1)"
   ]
  },
  {
   "cell_type": "code",
   "execution_count": 238,
   "metadata": {},
   "outputs": [
    {
     "data": {
      "text/html": [
       "<div>\n",
       "<style scoped>\n",
       "    .dataframe tbody tr th:only-of-type {\n",
       "        vertical-align: middle;\n",
       "    }\n",
       "\n",
       "    .dataframe tbody tr th {\n",
       "        vertical-align: top;\n",
       "    }\n",
       "\n",
       "    .dataframe thead th {\n",
       "        text-align: right;\n",
       "    }\n",
       "</style>\n",
       "<table border=\"1\" class=\"dataframe\">\n",
       "  <thead>\n",
       "    <tr style=\"text-align: right;\">\n",
       "      <th></th>\n",
       "      <th>tweet_id</th>\n",
       "      <th>jpg_url</th>\n",
       "      <th>img_num</th>\n",
       "      <th>p1</th>\n",
       "      <th>p1_conf</th>\n",
       "      <th>p1_dog</th>\n",
       "      <th>p2</th>\n",
       "      <th>p2_conf</th>\n",
       "      <th>p2_dog</th>\n",
       "      <th>p3</th>\n",
       "      <th>p3_conf</th>\n",
       "      <th>p3_dog</th>\n",
       "    </tr>\n",
       "  </thead>\n",
       "  <tbody>\n",
       "    <tr>\n",
       "      <th>0</th>\n",
       "      <td>666020888022790149</td>\n",
       "      <td>https://pbs.twimg.com/media/CT4udn0WwAA0aMy.jpg</td>\n",
       "      <td>1</td>\n",
       "      <td>Welsh_springer_spaniel</td>\n",
       "      <td>0.465074</td>\n",
       "      <td>True</td>\n",
       "      <td>collie</td>\n",
       "      <td>0.156665</td>\n",
       "      <td>True</td>\n",
       "      <td>Shetland_sheepdog</td>\n",
       "      <td>0.061428</td>\n",
       "      <td>True</td>\n",
       "    </tr>\n",
       "  </tbody>\n",
       "</table>\n",
       "</div>"
      ],
      "text/plain": [
       "             tweet_id                                          jpg_url  \\\n",
       "0  666020888022790149  https://pbs.twimg.com/media/CT4udn0WwAA0aMy.jpg   \n",
       "\n",
       "   img_num                      p1   p1_conf  p1_dog      p2   p2_conf  \\\n",
       "0        1  Welsh_springer_spaniel  0.465074    True  collie  0.156665   \n",
       "\n",
       "   p2_dog                 p3   p3_conf  p3_dog  \n",
       "0    True  Shetland_sheepdog  0.061428    True  "
      ]
     },
     "execution_count": 238,
     "metadata": {},
     "output_type": "execute_result"
    }
   ],
   "source": [
    "clean_image_predictions.head(1)"
   ]
  },
  {
   "cell_type": "code",
   "execution_count": 239,
   "metadata": {},
   "outputs": [
    {
     "data": {
      "text/html": [
       "<div>\n",
       "<style scoped>\n",
       "    .dataframe tbody tr th:only-of-type {\n",
       "        vertical-align: middle;\n",
       "    }\n",
       "\n",
       "    .dataframe tbody tr th {\n",
       "        vertical-align: top;\n",
       "    }\n",
       "\n",
       "    .dataframe thead th {\n",
       "        text-align: right;\n",
       "    }\n",
       "</style>\n",
       "<table border=\"1\" class=\"dataframe\">\n",
       "  <thead>\n",
       "    <tr style=\"text-align: right;\">\n",
       "      <th></th>\n",
       "      <th>favorite_count</th>\n",
       "      <th>retweet_count</th>\n",
       "      <th>tweet_id</th>\n",
       "      <th>user_count</th>\n",
       "    </tr>\n",
       "  </thead>\n",
       "  <tbody>\n",
       "    <tr>\n",
       "      <th>0</th>\n",
       "      <td>39467</td>\n",
       "      <td>8853</td>\n",
       "      <td>892420643555336193</td>\n",
       "      <td>3200889</td>\n",
       "    </tr>\n",
       "  </tbody>\n",
       "</table>\n",
       "</div>"
      ],
      "text/plain": [
       "   favorite_count  retweet_count            tweet_id  user_count\n",
       "0           39467           8853  892420643555336193     3200889"
      ]
     },
     "execution_count": 239,
     "metadata": {},
     "output_type": "execute_result"
    }
   ],
   "source": [
    "clean_tweet_data.head(1)"
   ]
  },
  {
   "cell_type": "markdown",
   "metadata": {},
   "source": [
    "B.Cleaning Tidiness Issues."
   ]
  },
  {
   "cell_type": "markdown",
   "metadata": {},
   "source": [
    "T1. For dog stage, there are some rows with multiple dog stages"
   ]
  },
  {
   "cell_type": "markdown",
   "metadata": {},
   "source": [
    " Define"
   ]
  },
  {
   "cell_type": "markdown",
   "metadata": {},
   "source": [
    " \n",
    " clean data from some rows with multiple dog stages."
   ]
  },
  {
   "cell_type": "markdown",
   "metadata": {},
   "source": [
    "code"
   ]
  },
  {
   "cell_type": "code",
   "execution_count": 240,
   "metadata": {},
   "outputs": [],
   "source": [
    "# handle none\n",
    "clean_t_archive.doggo.replace('None', '', inplace=True)\n",
    "clean_t_archive.floofer.replace('None', '', inplace=True)\n",
    "clean_t_archive.pupper.replace('None', '', inplace=True)\n",
    "clean_t_archive.puppo.replace('None', '', inplace=True)"
   ]
  },
  {
   "cell_type": "code",
   "execution_count": 241,
   "metadata": {},
   "outputs": [],
   "source": [
    "# merge into column\n",
    "clean_t_archive['dog_stage'] = clean_t_archive.doggo + clean_t_archive.floofer + clean_t_archive.pupper "
   ]
  },
  {
   "cell_type": "code",
   "execution_count": 242,
   "metadata": {},
   "outputs": [],
   "source": [
    "# handle multiple stages\n",
    "clean_t_archive.loc[clean_t_archive.dog_stage == 'doggopupper', 'dog_stage'] = 'doggo, pupper'\n",
    "clean_t_archive.loc[clean_t_archive.dog_stage == 'doggopuppo', 'dog_stage'] = 'doggo, puppo'\n",
    "clean_t_archive.loc[clean_t_archive.dog_stage == 'doggofloofer', 'dog_stage'] = 'doggo, floofer'"
   ]
  },
  {
   "cell_type": "code",
   "execution_count": 243,
   "metadata": {},
   "outputs": [],
   "source": [
    "# handle missing values\n",
    "clean_t_archive.loc[clean_t_archive.dog_stage == '', 'dog_stage'] = np.nan"
   ]
  },
  {
   "cell_type": "code",
   "execution_count": 244,
   "metadata": {},
   "outputs": [
    {
     "data": {
      "text/plain": [
       "NaN               2005\n",
       "pupper             245\n",
       "doggo               84\n",
       "doggo, pupper       12\n",
       "floofer              9\n",
       "doggo, floofer       1\n",
       "Name: dog_stage, dtype: int64"
      ]
     },
     "execution_count": 244,
     "metadata": {},
     "output_type": "execute_result"
    }
   ],
   "source": [
    "clean_t_archive.dog_stage.value_counts(dropna = False)"
   ]
  },
  {
   "cell_type": "markdown",
   "metadata": {},
   "source": [
    "test"
   ]
  },
  {
   "cell_type": "code",
   "execution_count": 245,
   "metadata": {},
   "outputs": [
    {
     "name": "stdout",
     "output_type": "stream",
     "text": [
      "<class 'pandas.core.frame.DataFrame'>\n",
      "RangeIndex: 2356 entries, 0 to 2355\n",
      "Data columns (total 18 columns):\n",
      "tweet_id                      2356 non-null int64\n",
      "in_reply_to_status_id         78 non-null float64\n",
      "in_reply_to_user_id           78 non-null float64\n",
      "timestamp                     2356 non-null object\n",
      "source                        2356 non-null object\n",
      "text                          2356 non-null object\n",
      "retweeted_status_id           181 non-null float64\n",
      "retweeted_status_user_id      181 non-null float64\n",
      "retweeted_status_timestamp    181 non-null object\n",
      "expanded_urls                 2297 non-null object\n",
      "rating_numerator              2356 non-null int64\n",
      "rating_denominator            2356 non-null int64\n",
      "name                          2356 non-null object\n",
      "doggo                         2356 non-null object\n",
      "floofer                       2356 non-null object\n",
      "pupper                        2356 non-null object\n",
      "puppo                         2356 non-null object\n",
      "dog_stage                     351 non-null object\n",
      "dtypes: float64(4), int64(3), object(11)\n",
      "memory usage: 331.4+ KB\n"
     ]
    }
   ],
   "source": [
    "clean_t_archive.info()"
   ]
  },
  {
   "cell_type": "markdown",
   "metadata": {},
   "source": [
    "T2. All data is related but divided into 3 separate dataframes."
   ]
  },
  {
   "cell_type": "markdown",
   "metadata": {},
   "source": [
    "Define"
   ]
  },
  {
   "cell_type": "markdown",
   "metadata": {},
   "source": [
    "Merge all dataframes into 1 based on tweet_id"
   ]
  },
  {
   "cell_type": "markdown",
   "metadata": {},
   "source": [
    "code"
   ]
  },
  {
   "cell_type": "code",
   "execution_count": 246,
   "metadata": {},
   "outputs": [],
   "source": [
    "clean_t_archive = pd.merge(clean_t_archive, clean_tweet_data, on= 'tweet_id', how= 'left')\n",
    "clean_t_archive = pd.merge(clean_t_archive, clean_image_predictions, on= 'tweet_id', how= 'left')"
   ]
  },
  {
   "cell_type": "markdown",
   "metadata": {},
   "source": [
    "test"
   ]
  },
  {
   "cell_type": "code",
   "execution_count": 247,
   "metadata": {},
   "outputs": [
    {
     "name": "stdout",
     "output_type": "stream",
     "text": [
      "<class 'pandas.core.frame.DataFrame'>\n",
      "Int64Index: 2356 entries, 0 to 2355\n",
      "Data columns (total 32 columns):\n",
      "tweet_id                      2356 non-null int64\n",
      "in_reply_to_status_id         78 non-null float64\n",
      "in_reply_to_user_id           78 non-null float64\n",
      "timestamp                     2356 non-null object\n",
      "source                        2356 non-null object\n",
      "text                          2356 non-null object\n",
      "retweeted_status_id           181 non-null float64\n",
      "retweeted_status_user_id      181 non-null float64\n",
      "retweeted_status_timestamp    181 non-null object\n",
      "expanded_urls                 2297 non-null object\n",
      "rating_numerator              2356 non-null int64\n",
      "rating_denominator            2356 non-null int64\n",
      "name                          2356 non-null object\n",
      "doggo                         2356 non-null object\n",
      "floofer                       2356 non-null object\n",
      "pupper                        2356 non-null object\n",
      "puppo                         2356 non-null object\n",
      "dog_stage                     351 non-null object\n",
      "favorite_count                2354 non-null float64\n",
      "retweet_count                 2354 non-null float64\n",
      "user_count                    2354 non-null float64\n",
      "jpg_url                       2075 non-null object\n",
      "img_num                       2075 non-null float64\n",
      "p1                            2075 non-null object\n",
      "p1_conf                       2075 non-null float64\n",
      "p1_dog                        2075 non-null object\n",
      "p2                            2075 non-null object\n",
      "p2_conf                       2075 non-null float64\n",
      "p2_dog                        2075 non-null object\n",
      "p3                            2075 non-null object\n",
      "p3_conf                       2075 non-null float64\n",
      "p3_dog                        2075 non-null object\n",
      "dtypes: float64(11), int64(3), object(18)\n",
      "memory usage: 607.4+ KB\n"
     ]
    }
   ],
   "source": [
    "clean_t_archive.info()"
   ]
  },
  {
   "cell_type": "markdown",
   "metadata": {},
   "source": [
    "C.Cleaning Quality Issues."
   ]
  },
  {
   "cell_type": "markdown",
   "metadata": {},
   "source": [
    "AQ1.There are 181 retweets as indicated by retweeted status_id."
   ]
  },
  {
   "cell_type": "markdown",
   "metadata": {},
   "source": [
    "Define"
   ]
  },
  {
   "cell_type": "markdown",
   "metadata": {},
   "source": [
    "Delete rows that represent retweets and all the relatted columns."
   ]
  },
  {
   "cell_type": "markdown",
   "metadata": {},
   "source": [
    "code"
   ]
  },
  {
   "cell_type": "code",
   "execution_count": 248,
   "metadata": {},
   "outputs": [
    {
     "name": "stdout",
     "output_type": "stream",
     "text": [
      "<class 'pandas.core.frame.DataFrame'>\n",
      "Int64Index: 2175 entries, 0 to 2355\n",
      "Data columns (total 32 columns):\n",
      "tweet_id                      2175 non-null int64\n",
      "in_reply_to_status_id         78 non-null float64\n",
      "in_reply_to_user_id           78 non-null float64\n",
      "timestamp                     2175 non-null object\n",
      "source                        2175 non-null object\n",
      "text                          2175 non-null object\n",
      "retweeted_status_id           0 non-null float64\n",
      "retweeted_status_user_id      0 non-null float64\n",
      "retweeted_status_timestamp    0 non-null object\n",
      "expanded_urls                 2117 non-null object\n",
      "rating_numerator              2175 non-null int64\n",
      "rating_denominator            2175 non-null int64\n",
      "name                          2175 non-null object\n",
      "doggo                         2175 non-null object\n",
      "floofer                       2175 non-null object\n",
      "pupper                        2175 non-null object\n",
      "puppo                         2175 non-null object\n",
      "dog_stage                     320 non-null object\n",
      "favorite_count                2175 non-null float64\n",
      "retweet_count                 2175 non-null float64\n",
      "user_count                    2175 non-null float64\n",
      "jpg_url                       1994 non-null object\n",
      "img_num                       1994 non-null float64\n",
      "p1                            1994 non-null object\n",
      "p1_conf                       1994 non-null float64\n",
      "p1_dog                        1994 non-null object\n",
      "p2                            1994 non-null object\n",
      "p2_conf                       1994 non-null float64\n",
      "p2_dog                        1994 non-null object\n",
      "p3                            1994 non-null object\n",
      "p3_conf                       1994 non-null float64\n",
      "p3_dog                        1994 non-null object\n",
      "dtypes: float64(11), int64(3), object(18)\n",
      "memory usage: 560.7+ KB\n"
     ]
    }
   ],
   "source": [
    "clean_t_archive = clean_t_archive[clean_t_archive.retweeted_status_id.isnull()]\n",
    "clean_t_archive.info()"
   ]
  },
  {
   "cell_type": "code",
   "execution_count": 249,
   "metadata": {},
   "outputs": [],
   "source": [
    "clean_t_archive = clean_t_archive.drop(columns=['retweeted_status_id', 'retweeted_status_user_id', 'retweeted_status_timestamp'])"
   ]
  },
  {
   "cell_type": "markdown",
   "metadata": {},
   "source": [
    "test"
   ]
  },
  {
   "cell_type": "code",
   "execution_count": 250,
   "metadata": {},
   "outputs": [
    {
     "name": "stdout",
     "output_type": "stream",
     "text": [
      "<class 'pandas.core.frame.DataFrame'>\n",
      "Int64Index: 2175 entries, 0 to 2355\n",
      "Data columns (total 29 columns):\n",
      "tweet_id                 2175 non-null int64\n",
      "in_reply_to_status_id    78 non-null float64\n",
      "in_reply_to_user_id      78 non-null float64\n",
      "timestamp                2175 non-null object\n",
      "source                   2175 non-null object\n",
      "text                     2175 non-null object\n",
      "expanded_urls            2117 non-null object\n",
      "rating_numerator         2175 non-null int64\n",
      "rating_denominator       2175 non-null int64\n",
      "name                     2175 non-null object\n",
      "doggo                    2175 non-null object\n",
      "floofer                  2175 non-null object\n",
      "pupper                   2175 non-null object\n",
      "puppo                    2175 non-null object\n",
      "dog_stage                320 non-null object\n",
      "favorite_count           2175 non-null float64\n",
      "retweet_count            2175 non-null float64\n",
      "user_count               2175 non-null float64\n",
      "jpg_url                  1994 non-null object\n",
      "img_num                  1994 non-null float64\n",
      "p1                       1994 non-null object\n",
      "p1_conf                  1994 non-null float64\n",
      "p1_dog                   1994 non-null object\n",
      "p2                       1994 non-null object\n",
      "p2_conf                  1994 non-null float64\n",
      "p2_dog                   1994 non-null object\n",
      "p3                       1994 non-null object\n",
      "p3_conf                  1994 non-null float64\n",
      "p3_dog                   1994 non-null object\n",
      "dtypes: float64(9), int64(3), object(17)\n",
      "memory usage: 509.8+ KB\n"
     ]
    }
   ],
   "source": [
    "clean_t_archive.info()"
   ]
  },
  {
   "cell_type": "markdown",
   "metadata": {},
   "source": [
    "AQ2.Name column have None instead of NaN and too many unvalid values."
   ]
  },
  {
   "cell_type": "markdown",
   "metadata": {},
   "source": [
    "Define"
   ]
  },
  {
   "cell_type": "markdown",
   "metadata": {},
   "source": [
    "Replace 'None' with np.name in t_archive name column.\n",
    "\n",
    "Remove any rows with invalid names which starts with lower letter."
   ]
  },
  {
   "cell_type": "markdown",
   "metadata": {},
   "source": [
    "code"
   ]
  },
  {
   "cell_type": "code",
   "execution_count": 251,
   "metadata": {},
   "outputs": [
    {
     "data": {
      "text/plain": [
       "array(['such', 'a', 'quite', 'not', 'one', 'incredibly', 'BeBe', 'very',\n",
       "       'DonDon', 'my', 'his', 'an', 'actually', 'just', 'getting', 'mad',\n",
       "       'this', 'unacceptable', 'all', 'old', 'infuriating', 'CeCe', 'the',\n",
       "       'by', 'officially', 'life', 'light', 'space', 'JD', 'DayZ'], dtype=object)"
      ]
     },
     "execution_count": 251,
     "metadata": {},
     "output_type": "execute_result"
    }
   ],
   "source": [
    "clean_t_archive[~clean_t_archive.name.str.istitle()].name.unique()"
   ]
  },
  {
   "cell_type": "code",
   "execution_count": 252,
   "metadata": {},
   "outputs": [],
   "source": [
    "clean_t_archive.name.replace(['such', 'a', 'quite', 'not', 'one', 'incredibly', 'mad',\n",
    "       'an', 'very', 'just', 'my', 'his', 'actually', 'getting',\n",
    "       'this', 'unacceptable', 'all', 'old', 'infuriating', 'the',\n",
    "       'by', 'officially', 'life', 'light', 'space', 'None'], np.nan, inplace=True)"
   ]
  },
  {
   "cell_type": "markdown",
   "metadata": {},
   "source": [
    "test"
   ]
  },
  {
   "cell_type": "code",
   "execution_count": 253,
   "metadata": {},
   "outputs": [
    {
     "data": {
      "text/plain": [
       "array(['Phineas', 'Tilly', 'Archie', 'Darla', 'Franklin', nan, 'Jax',\n",
       "       'Zoey', 'Cassie', 'Koda', 'Bruno', 'Ted', 'Stuart', 'Oliver', 'Jim',\n",
       "       'Zeke', 'Ralphus', 'Gerald', 'Jeffrey', 'Canela', 'Maya', 'Mingus',\n",
       "       'Derek', 'Roscoe', 'Waffles', 'Jimbo', 'Maisey', 'Earl', 'Lola',\n",
       "       'Kevin', 'Yogi', 'Noah', 'Bella', 'Grizzwald', 'Rusty', 'Gus',\n",
       "       'Stanley', 'Alfy', 'Koko', 'Rey', 'Gary', 'Elliot', 'Louis',\n",
       "       'Jesse', 'Romeo', 'Bailey', 'Duddles', 'Jack', 'Steven', 'Beau',\n",
       "       'Snoopy', 'Shadow', 'Emmy', 'Aja', 'Penny', 'Dante', 'Nelly',\n",
       "       'Ginger', 'Benedict', 'Venti', 'Goose', 'Nugget', 'Cash', 'Jed',\n",
       "       'Sebastian', 'Sierra', 'Monkey', 'Harry', 'Kody', 'Lassie', 'Rover',\n",
       "       'Napolean', 'Boomer', 'Cody', 'Rumble', 'Clifford', 'Dewey',\n",
       "       'Scout', 'Gizmo', 'Walter', 'Cooper', 'Harold', 'Shikha', 'Lili',\n",
       "       'Jamesy', 'Coco', 'Sammy', 'Meatball', 'Paisley', 'Albus',\n",
       "       'Neptune', 'Belle', 'Quinn', 'Zooey', 'Dave', 'Jersey', 'Hobbes',\n",
       "       'Burt', 'Lorenzo', 'Carl', 'Jordy', 'Milky', 'Trooper', 'Sophie',\n",
       "       'Wyatt', 'Rosie', 'Thor', 'Oscar', 'Callie', 'Cermet', 'Marlee',\n",
       "       'Arya', 'Einstein', 'Alice', 'Rumpole', 'Benny', 'Aspen', 'Jarod',\n",
       "       'Wiggles', 'General', 'Sailor', 'Iggy', 'Snoop', 'Kyle', 'Leo',\n",
       "       'Riley', 'Noosh', 'Odin', 'Jerry', 'Georgie', 'Rontu', 'Cannon',\n",
       "       'Furzey', 'Daisy', 'Tuck', 'Barney', 'Vixen', 'Jarvis', 'Mimosa',\n",
       "       'Pickles', 'Brady', 'Luna', 'Charlie', 'Margo', 'Sadie', 'Hank',\n",
       "       'Tycho', 'Indie', 'Winnie', 'George', 'Bentley', 'Max', 'Dawn',\n",
       "       'Maddie', 'Monty', 'Sojourner', 'Winston', 'Odie', 'Arlo',\n",
       "       'Vincent', 'Lucy', 'Clark', 'Mookie', 'Meera', 'Ava', 'Eli', 'Ash',\n",
       "       'Tucker', 'Tobi', 'Chester', 'Wilson', 'Sunshine', 'Lipton',\n",
       "       'Bronte', 'Poppy', 'Gidget', 'Rhino', 'Willow', 'Orion', 'Eevee',\n",
       "       'Smiley', 'Miguel', 'Emanuel', 'Kuyu', 'Dutch', 'Pete', 'Scooter',\n",
       "       'Reggie', 'Lilly', 'Samson', 'Mia', 'Astrid', 'Malcolm', 'Dexter',\n",
       "       'Alfie', 'Fiona', 'Mutt', 'Bear', 'Doobert', 'Beebop', 'Alexander',\n",
       "       'Sailer', 'Brutus', 'Kona', 'Boots', 'Ralphie', 'Loki', 'Cupid',\n",
       "       'Pawnd', 'Pilot', 'Ike', 'Mo', 'Toby', 'Sweet', 'Pablo', 'Nala',\n",
       "       'Crawford', 'Gabe', 'Jimison', 'Duchess', 'Harlso', 'Sundance',\n",
       "       'Luca', 'Flash', 'Sunny', 'Howie', 'Jazzy', 'Anna', 'Finn', 'Bo',\n",
       "       'Wafer', 'Tom', 'Florence', 'Autumn', 'Buddy', 'Dido', 'Eugene',\n",
       "       'Ken', 'Strudel', 'Tebow', 'Chloe', 'Timber', 'Binky', 'Moose',\n",
       "       'Dudley', 'Comet', 'Akumi', 'Titan', 'Olivia', 'Alf', 'Oshie',\n",
       "       'Chubbs', 'Sky', 'Atlas', 'Eleanor', 'Layla', 'Rocky', 'Baron',\n",
       "       'Tyr', 'Bauer', 'Swagger', 'Brandi', 'Mary', 'Moe', 'Halo', 'Augie',\n",
       "       'Craig', 'Sam', 'Hunter', 'Pavlov', 'Phil', 'Kyro', 'Wallace',\n",
       "       'Ito', 'Seamus', 'Ollie', 'Stephan', 'Lennon', 'Major', 'Duke',\n",
       "       'Sansa', 'Shooter', 'Django', 'Diogi', 'Sonny', 'Marley', 'Severus',\n",
       "       'Ronnie', 'Milo', 'Bones', 'Mauve', 'Chef', 'Doc', 'Peaches',\n",
       "       'Sobe', 'Longfellow', 'Mister', 'Iroh', 'Pancake', 'Snicku', 'Ruby',\n",
       "       'Brody', 'Mack', 'Nimbus', 'Laika', 'Maximus', 'Dobby', 'Moreton',\n",
       "       'Juno', 'Maude', 'Lily', 'Newt', 'Benji', 'Nida', 'Robin',\n",
       "       'Monster', 'BeBe', 'Remus', 'Levi', 'Mabel', 'Misty', 'Betty',\n",
       "       'Mosby', 'Maggie', 'Bruce', 'Happy', 'Ralphy', 'Brownie', 'Rizzy',\n",
       "       'Stella', 'Butter', 'Frank', 'Tonks', 'Lincoln', 'Rory', 'Logan',\n",
       "       'Dale', 'Rizzo', 'Arnie', 'Mattie', 'Pinot', 'Dallas', 'Hero',\n",
       "       'Frankie', 'Stormy', 'Reginald', 'Balto', 'Mairi', 'Loomis', 'Godi',\n",
       "       'Cali', 'Deacon', 'Timmy', 'Sampson', 'Chipson', 'Combo', 'Oakley',\n",
       "       'Dash', 'Hercules', 'Jay', 'Mya', 'Strider', 'Wesley', 'Solomon',\n",
       "       'Huck', 'O', 'Blue', 'Anakin', 'Finley', 'Sprinkles', 'Heinrich',\n",
       "       'Shakespeare', 'Chelsea', 'Bungalo', 'Chip', 'Grey', 'Roosevelt',\n",
       "       'Willem', 'Davey', 'Dakota', 'Fizz', 'Dixie', 'Al', 'Jackson',\n",
       "       'Carbon', 'Klein', 'DonDon', 'Kirby', 'Lou', 'Chevy', 'Tito',\n",
       "       'Philbert', 'Louie', 'Rupert', 'Rufus', 'Brudge', 'Shadoe', 'Angel',\n",
       "       'Brat', 'Tove', 'Gromit', 'Aubie', 'Kota', 'Leela', 'Glenn',\n",
       "       'Shelby', 'Sephie', 'Bonaparte', 'Albert', 'Wishes', 'Rose', 'Theo',\n",
       "       'Rocco', 'Fido', 'Emma', 'Spencer', 'Lilli', 'Boston', 'Brandonald',\n",
       "       'Corey', 'Leonard', 'Beckham', 'Devón', 'Gert', 'Watson', 'Keith',\n",
       "       'Dex', 'Ace', 'Tayzie', 'Grizzie', 'Fred', 'Gilbert', 'Meyer',\n",
       "       'Zoe', 'Stewie', 'Calvin', 'Lilah', 'Spanky', 'Jameson', 'Piper',\n",
       "       'Atticus', 'Blu', 'Dietrich', 'Divine', 'Tripp', 'Cora', 'Huxley',\n",
       "       'Keurig', 'Bookstore', 'Linus', 'Abby', 'Shiloh', 'Gustav', 'Arlen',\n",
       "       'Percy', 'Lenox', 'Sugar', 'Harvey', 'Blanket', 'Geno', 'Stark',\n",
       "       'Beya', 'Kilo', 'Kayla', 'Maxaroni', 'Bell', 'Doug', 'Edmund',\n",
       "       'Aqua', 'Theodore', 'Baloo', 'Chase', 'Nollie', 'Rorie', 'Simba',\n",
       "       'Charles', 'Bayley', 'Axel', 'Storkson', 'Remy', 'Chadrick',\n",
       "       'Kellogg', 'Buckley', 'Livvie', 'Terry', 'Hermione', 'Ralpher',\n",
       "       'Aldrick', 'Larry', 'Rooney', 'Crystal', 'Ziva', 'Stefan',\n",
       "       'Pupcasso', 'Puff', 'Flurpson', 'Coleman', 'Enchilada', 'Raymond',\n",
       "       'Rueben', 'Cilantro', 'Karll', 'Sprout', 'Blitz', 'Bloop', 'Colby',\n",
       "       'Lillie', 'Ashleigh', 'Kreggory', 'Sarge', 'Luther', 'Ivar',\n",
       "       'Jangle', 'Schnitzel', 'Panda', 'Berkeley', 'Ralphé', 'Charleson',\n",
       "       'Clyde', 'Harnold', 'Sid', 'Pippa', 'Otis', 'Carper', 'Bowie',\n",
       "       'Alexanderson', 'Suki', 'Barclay', 'Skittle', 'Ebby', 'Flávio',\n",
       "       'Smokey', 'Link', 'Jennifur', 'Ozzy', 'Bluebert', 'Stephanus',\n",
       "       'Bubbles', 'Zeus', 'Bertson', 'Nico', 'Michelangelope', 'Siba',\n",
       "       'Calbert', 'Curtis', 'Travis', 'Thumas', 'Kanu', 'Lance', 'Opie',\n",
       "       'Stubert', 'Kane', 'Olive', 'Chuckles', 'Staniel', 'Sora', 'Beemo',\n",
       "       'Gunner', 'Lacy', 'Tater', 'Olaf', 'Cecil', 'Vince', 'Karma',\n",
       "       'Billy', 'Walker', 'Rodney', 'Klevin', 'Malikai', 'Bobble', 'River',\n",
       "       'Jebberson', 'Remington', 'Farfle', 'Jiminus', 'Harper', 'Clarkus',\n",
       "       'Finnegus', 'Cupcake', 'Kathmandu', 'Ellie', 'Katie', 'Kara',\n",
       "       'Adele', 'Zara', 'Ambrose', 'Jimothy', 'Bode', 'Terrenth', 'Reese',\n",
       "       'Chesterson', 'Lucia', 'Bisquick', 'Ralphson', 'Socks', 'Rambo',\n",
       "       'Rudy', 'Fiji', 'Rilo', 'Bilbo', 'Coopson', 'Yoda', 'Millie',\n",
       "       'Chet', 'Crouton', 'Daniel', 'Kaia', 'Murphy', 'Dotsy', 'Eazy',\n",
       "       'Coops', 'Fillup', 'Miley', 'Charl', 'Reagan', 'Yukon', 'CeCe',\n",
       "       'Cuddles', 'Claude', 'Jessiga', 'Carter', 'Ole', 'Pherb', 'Blipson',\n",
       "       'Reptar', 'Trevith', 'Berb', 'Bob', 'Colin', 'Brian', 'Oliviér',\n",
       "       'Grady', 'Kobe', 'Freddery', 'Bodie', 'Dunkin', 'Wally', 'Tupawc',\n",
       "       'Amber', 'Herschel', 'Edgar', 'Teddy', 'Kingsley', 'Brockly',\n",
       "       'Richie', 'Molly', 'Vinscent', 'Cedrick', 'Hazel', 'Lolo', 'Eriq',\n",
       "       'Phred', 'Oddie', 'Maxwell', 'Geoff', 'Covach', 'Durg', 'Fynn',\n",
       "       'Ricky', 'Herald', 'Lucky', 'Ferg', 'Trip', 'Clarence', 'Hamrick',\n",
       "       'Brad', 'Pubert', 'Frönq', 'Derby', 'Lizzie', 'Ember', 'Blakely',\n",
       "       'Opal', 'Marq', 'Kramer', 'Barry', 'Tyrone', 'Gordon', 'Baxter',\n",
       "       'Mona', 'Horace', 'Crimson', 'Birf', 'Hammond', 'Lorelei', 'Marty',\n",
       "       'Brooks', 'Petrick', 'Hubertson', 'Gerbald', 'Oreo', 'Bruiser',\n",
       "       'Perry', 'Bobby', 'Jeph', 'Obi', 'Tino', 'Kulet', 'Sweets', 'Lupe',\n",
       "       'Tiger', 'Jiminy', 'Griffin', 'Banjo', 'Brandy', 'Lulu', 'Darrel',\n",
       "       'Taco', 'Joey', 'Patrick', 'Kreg', 'Todo', 'Tess', 'Ulysses',\n",
       "       'Toffee', 'Apollo', 'Carly', 'Asher', 'Glacier', 'Chuck', 'Champ',\n",
       "       'Ozzie', 'Griswold', 'Cheesy', 'Moofasa', 'Hector', 'Goliath',\n",
       "       'Kawhi', 'Emmie', 'Penelope', 'Willie', 'Rinna', 'Mike', 'William',\n",
       "       'Dwight', 'Evy', 'Hurley', 'Rubio', 'Chompsky', 'Rascal', 'Linda',\n",
       "       'Tug', 'Tango', 'Grizz', 'Jerome', 'Crumpet', 'Jessifer', 'Izzy',\n",
       "       'Ralph', 'Sandy', 'Humphrey', 'Tassy', 'Juckson', 'Chuq', 'Tyrus',\n",
       "       'Karl', 'Godzilla', 'Vinnie', 'Kenneth', 'Herm', 'Bert', 'Striker',\n",
       "       'Donny', 'Pepper', 'Bernie', 'Buddah', 'Lenny', 'Arnold', 'Zuzu',\n",
       "       'Mollie', 'Laela', 'Tedders', 'Superpup', 'Rufio', 'Jeb', 'Rodman',\n",
       "       'Jonah', 'Chesney', 'Kenny', 'Henry', 'Bobbay', 'Mitch', 'Kaiya',\n",
       "       'Acro', 'Aiden', 'Obie', 'Dot', 'Shnuggles', 'Kendall', 'Jeffri',\n",
       "       'Steve', 'Eve', 'Mac', 'Fletcher', 'Kenzie', 'Pumpkin', 'Schnozz',\n",
       "       'Gustaf', 'Cheryl', 'Ed', 'Leonidas', 'Norman', 'Caryl', 'Scott',\n",
       "       'Taz', 'Darby', 'Jackie', 'Jazz', 'Franq', 'Pippin', 'Rolf',\n",
       "       'Snickers', 'Ridley', 'Cal', 'Bradley', 'Bubba', 'Tuco', 'Patch',\n",
       "       'Mojo', 'Batdog', 'Dylan', 'Mark', 'JD', 'Alejandro', 'Scruffers',\n",
       "       'Pip', 'Julius', 'Tanner', 'Sparky', 'Anthony', 'Holly', 'Jett',\n",
       "       'Amy', 'Sage', 'Andy', 'Mason', 'Trigger', 'Antony', 'Creg',\n",
       "       'Traviss', 'Gin', 'Jeffrie', 'Danny', 'Ester', 'Pluto', 'Bloo',\n",
       "       'Edd', 'Paull', 'Willy', 'Herb', 'Damon', 'Peanut', 'Nigel',\n",
       "       'Butters', 'Sandra', 'Fabio', 'Randall', 'Liam', 'Tommy', 'Ben',\n",
       "       'Raphael', 'Julio', 'Andru', 'Kloey', 'Shawwn', 'Skye', 'Kollin',\n",
       "       'Ronduh', 'Billl', 'Saydee', 'Dug', 'Tessa', 'Sully', 'Kirk',\n",
       "       'Ralf', 'Clarq', 'Jaspers', 'Samsom', 'Terrance', 'Harrison',\n",
       "       'Chaz', 'Jeremy', 'Jaycob', 'Lambeau', 'Ruffles', 'Amélie', 'Bobb',\n",
       "       'Banditt', 'Kevon', 'Winifred', 'Hanz', 'Churlie', 'Zeek', 'Timofy',\n",
       "       'Maks', 'Jomathan', 'Kallie', 'Marvin', 'Spark', 'Gòrdón', 'Jo',\n",
       "       'DayZ', 'Jareld', 'Torque', 'Ron', 'Skittles', 'Cleopatricia',\n",
       "       'Erik', 'Stu', 'Tedrick', 'Shaggy', 'Filup', 'Kial', 'Naphaniel',\n",
       "       'Dook', 'Hall', 'Philippe', 'Biden', 'Fwed', 'Genevieve', 'Joshwa',\n",
       "       'Timison', 'Bradlay', 'Pipsy', 'Clybe', 'Keet', 'Carll', 'Jockson',\n",
       "       'Josep', 'Lugan', 'Christoper'], dtype=object)"
      ]
     },
     "execution_count": 253,
     "metadata": {},
     "output_type": "execute_result"
    }
   ],
   "source": [
    "clean_t_archive.name.unique()"
   ]
  },
  {
   "cell_type": "code",
   "execution_count": 254,
   "metadata": {},
   "outputs": [
    {
     "data": {
      "text/plain": [
       "Charlie       11\n",
       "Lucy          11\n",
       "Oliver        10\n",
       "Cooper        10\n",
       "Penny          9\n",
       "Tucker         9\n",
       "Lola           8\n",
       "Sadie          8\n",
       "Winston        8\n",
       "Toby           7\n",
       "Daisy          7\n",
       "Koda           6\n",
       "Bella          6\n",
       "Stanley        6\n",
       "Oscar          6\n",
       "Bo             6\n",
       "Jax            6\n",
       "Bailey         6\n",
       "Milo           5\n",
       "Leo            5\n",
       "Rusty          5\n",
       "Bentley        5\n",
       "Chester        5\n",
       "Dave           5\n",
       "Buddy          5\n",
       "Louis          5\n",
       "Scout          5\n",
       "Bear           4\n",
       "Finn           4\n",
       "Dexter         4\n",
       "              ..\n",
       "Kollin         1\n",
       "Hanz           1\n",
       "Miguel         1\n",
       "Brandy         1\n",
       "Cermet         1\n",
       "Gilbert        1\n",
       "Oddie          1\n",
       "Georgie        1\n",
       "Lilli          1\n",
       "Banjo          1\n",
       "Christoper     1\n",
       "Pipsy          1\n",
       "Ron            1\n",
       "Mauve          1\n",
       "Ben            1\n",
       "Siba           1\n",
       "Lilah          1\n",
       "Joey           1\n",
       "DonDon         1\n",
       "Karma          1\n",
       "Norman         1\n",
       "Karll          1\n",
       "Strider        1\n",
       "Pip            1\n",
       "Philippe       1\n",
       "Dot            1\n",
       "Carly          1\n",
       "Rey            1\n",
       "Izzy           1\n",
       "Deacon         1\n",
       "Name: name, Length: 930, dtype: int64"
      ]
     },
     "execution_count": 254,
     "metadata": {},
     "output_type": "execute_result"
    }
   ],
   "source": [
    "clean_t_archive.name.value_counts()"
   ]
  },
  {
   "cell_type": "code",
   "execution_count": 255,
   "metadata": {},
   "outputs": [
    {
     "name": "stdout",
     "output_type": "stream",
     "text": [
      "<class 'pandas.core.frame.DataFrame'>\n",
      "Int64Index: 2175 entries, 0 to 2355\n",
      "Data columns (total 29 columns):\n",
      "tweet_id                 2175 non-null int64\n",
      "in_reply_to_status_id    78 non-null float64\n",
      "in_reply_to_user_id      78 non-null float64\n",
      "timestamp                2175 non-null object\n",
      "source                   2175 non-null object\n",
      "text                     2175 non-null object\n",
      "expanded_urls            2117 non-null object\n",
      "rating_numerator         2175 non-null int64\n",
      "rating_denominator       2175 non-null int64\n",
      "name                     1391 non-null object\n",
      "doggo                    2175 non-null object\n",
      "floofer                  2175 non-null object\n",
      "pupper                   2175 non-null object\n",
      "puppo                    2175 non-null object\n",
      "dog_stage                320 non-null object\n",
      "favorite_count           2175 non-null float64\n",
      "retweet_count            2175 non-null float64\n",
      "user_count               2175 non-null float64\n",
      "jpg_url                  1994 non-null object\n",
      "img_num                  1994 non-null float64\n",
      "p1                       1994 non-null object\n",
      "p1_conf                  1994 non-null float64\n",
      "p1_dog                   1994 non-null object\n",
      "p2                       1994 non-null object\n",
      "p2_conf                  1994 non-null float64\n",
      "p2_dog                   1994 non-null object\n",
      "p3                       1994 non-null object\n",
      "p3_conf                  1994 non-null float64\n",
      "p3_dog                   1994 non-null object\n",
      "dtypes: float64(9), int64(3), object(17)\n",
      "memory usage: 509.8+ KB\n"
     ]
    }
   ],
   "source": [
    "clean_t_archive.info()"
   ]
  },
  {
   "cell_type": "markdown",
   "metadata": {},
   "source": [
    "AQ3. invalid tweet_id data type(integer instead of string)."
   ]
  },
  {
   "cell_type": "markdown",
   "metadata": {},
   "source": [
    "Define"
   ]
  },
  {
   "cell_type": "markdown",
   "metadata": {},
   "source": [
    "correct invalid data type by converting tweet_id to string."
   ]
  },
  {
   "cell_type": "markdown",
   "metadata": {},
   "source": [
    "code"
   ]
  },
  {
   "cell_type": "code",
   "execution_count": 256,
   "metadata": {},
   "outputs": [],
   "source": [
    "clean_t_archive.tweet_id = clean_t_archive.tweet_id.astype(str)"
   ]
  },
  {
   "cell_type": "markdown",
   "metadata": {},
   "source": [
    "test"
   ]
  },
  {
   "cell_type": "code",
   "execution_count": 257,
   "metadata": {},
   "outputs": [
    {
     "name": "stdout",
     "output_type": "stream",
     "text": [
      "<class 'pandas.core.frame.DataFrame'>\n",
      "Int64Index: 2175 entries, 0 to 2355\n",
      "Data columns (total 29 columns):\n",
      "tweet_id                 2175 non-null object\n",
      "in_reply_to_status_id    78 non-null float64\n",
      "in_reply_to_user_id      78 non-null float64\n",
      "timestamp                2175 non-null object\n",
      "source                   2175 non-null object\n",
      "text                     2175 non-null object\n",
      "expanded_urls            2117 non-null object\n",
      "rating_numerator         2175 non-null int64\n",
      "rating_denominator       2175 non-null int64\n",
      "name                     1391 non-null object\n",
      "doggo                    2175 non-null object\n",
      "floofer                  2175 non-null object\n",
      "pupper                   2175 non-null object\n",
      "puppo                    2175 non-null object\n",
      "dog_stage                320 non-null object\n",
      "favorite_count           2175 non-null float64\n",
      "retweet_count            2175 non-null float64\n",
      "user_count               2175 non-null float64\n",
      "jpg_url                  1994 non-null object\n",
      "img_num                  1994 non-null float64\n",
      "p1                       1994 non-null object\n",
      "p1_conf                  1994 non-null float64\n",
      "p1_dog                   1994 non-null object\n",
      "p2                       1994 non-null object\n",
      "p2_conf                  1994 non-null float64\n",
      "p2_dog                   1994 non-null object\n",
      "p3                       1994 non-null object\n",
      "p3_conf                  1994 non-null float64\n",
      "p3_dog                   1994 non-null object\n",
      "dtypes: float64(9), int64(2), object(18)\n",
      "memory usage: 509.8+ KB\n"
     ]
    }
   ],
   "source": [
    "clean_t_archive.info()"
   ]
  },
  {
   "cell_type": "markdown",
   "metadata": {},
   "source": [
    "AQ4. invalid timestamp data type(string not datetime)."
   ]
  },
  {
   "cell_type": "markdown",
   "metadata": {},
   "source": [
    "Define"
   ]
  },
  {
   "cell_type": "markdown",
   "metadata": {},
   "source": [
    "correct invalid data type by converting timestamp to datamine"
   ]
  },
  {
   "cell_type": "markdown",
   "metadata": {},
   "source": [
    "code"
   ]
  },
  {
   "cell_type": "code",
   "execution_count": 258,
   "metadata": {},
   "outputs": [],
   "source": [
    "clean_t_archive.timestamp = pd.to_datetime(clean_t_archive.timestamp)"
   ]
  },
  {
   "cell_type": "markdown",
   "metadata": {},
   "source": [
    "test"
   ]
  },
  {
   "cell_type": "code",
   "execution_count": 259,
   "metadata": {},
   "outputs": [
    {
     "name": "stdout",
     "output_type": "stream",
     "text": [
      "<class 'pandas.core.frame.DataFrame'>\n",
      "Int64Index: 2175 entries, 0 to 2355\n",
      "Data columns (total 29 columns):\n",
      "tweet_id                 2175 non-null object\n",
      "in_reply_to_status_id    78 non-null float64\n",
      "in_reply_to_user_id      78 non-null float64\n",
      "timestamp                2175 non-null datetime64[ns]\n",
      "source                   2175 non-null object\n",
      "text                     2175 non-null object\n",
      "expanded_urls            2117 non-null object\n",
      "rating_numerator         2175 non-null int64\n",
      "rating_denominator       2175 non-null int64\n",
      "name                     1391 non-null object\n",
      "doggo                    2175 non-null object\n",
      "floofer                  2175 non-null object\n",
      "pupper                   2175 non-null object\n",
      "puppo                    2175 non-null object\n",
      "dog_stage                320 non-null object\n",
      "favorite_count           2175 non-null float64\n",
      "retweet_count            2175 non-null float64\n",
      "user_count               2175 non-null float64\n",
      "jpg_url                  1994 non-null object\n",
      "img_num                  1994 non-null float64\n",
      "p1                       1994 non-null object\n",
      "p1_conf                  1994 non-null float64\n",
      "p1_dog                   1994 non-null object\n",
      "p2                       1994 non-null object\n",
      "p2_conf                  1994 non-null float64\n",
      "p2_dog                   1994 non-null object\n",
      "p3                       1994 non-null object\n",
      "p3_conf                  1994 non-null float64\n",
      "p3_dog                   1994 non-null object\n",
      "dtypes: datetime64[ns](1), float64(9), int64(2), object(17)\n",
      "memory usage: 509.8+ KB\n"
     ]
    }
   ],
   "source": [
    "clean_t_archive.info()"
   ]
  },
  {
   "cell_type": "markdown",
   "metadata": {},
   "source": [
    "BQ1.underscores are used in multi-world names in columns p1,p2&p3 instead of spaces.\n"
   ]
  },
  {
   "cell_type": "markdown",
   "metadata": {},
   "source": [
    "Define\n",
    "\n",
    "convert underscores to spaces"
   ]
  },
  {
   "cell_type": "markdown",
   "metadata": {},
   "source": [
    "code"
   ]
  },
  {
   "cell_type": "code",
   "execution_count": 260,
   "metadata": {},
   "outputs": [],
   "source": [
    "clean_t_archive.p1 = clean_t_archive.p1.str.replace('_',' ')\n",
    "clean_t_archive.p2 = clean_t_archive.p2.str.replace('_',' ')\n",
    "clean_t_archive.p3 = clean_t_archive.p3.str.replace('_',' ')"
   ]
  },
  {
   "cell_type": "markdown",
   "metadata": {},
   "source": [
    "test"
   ]
  },
  {
   "cell_type": "code",
   "execution_count": 261,
   "metadata": {},
   "outputs": [
    {
     "data": {
      "text/plain": [
       "0                      orange\n",
       "1                   Chihuahua\n",
       "2                   Chihuahua\n",
       "3                 paper towel\n",
       "4                      basset\n",
       "5    Chesapeake Bay retriever\n",
       "6                 Appenzeller\n",
       "7                  Pomeranian\n",
       "8               Irish terrier\n",
       "9                    Pembroke\n",
       "Name: p1, dtype: object"
      ]
     },
     "execution_count": 261,
     "metadata": {},
     "output_type": "execute_result"
    }
   ],
   "source": [
    "clean_t_archive.p1.head(10)"
   ]
  },
  {
   "cell_type": "code",
   "execution_count": 262,
   "metadata": {},
   "outputs": [
    {
     "data": {
      "text/plain": [
       "0                 bagel\n",
       "1              Pekinese\n",
       "2              malamute\n",
       "3    Labrador retriever\n",
       "4      English springer\n",
       "5         Irish terrier\n",
       "6         Border collie\n",
       "7            Eskimo dog\n",
       "8          Irish setter\n",
       "9              Cardigan\n",
       "Name: p2, dtype: object"
      ]
     },
     "execution_count": 262,
     "metadata": {},
     "output_type": "execute_result"
    }
   ],
   "source": [
    "clean_t_archive.p2.head(10)"
   ]
  },
  {
   "cell_type": "code",
   "execution_count": 263,
   "metadata": {},
   "outputs": [
    {
     "data": {
      "text/plain": [
       "0                         banana\n",
       "1                       papillon\n",
       "2                         kelpie\n",
       "3                        spatula\n",
       "4    German short-haired pointer\n",
       "5                Indian elephant\n",
       "6                      ice lolly\n",
       "7                       Pembroke\n",
       "8       Chesapeake Bay retriever\n",
       "9                      Chihuahua\n",
       "Name: p3, dtype: object"
      ]
     },
     "execution_count": 263,
     "metadata": {},
     "output_type": "execute_result"
    }
   ],
   "source": [
    "clean_t_archive.p3.head(10)"
   ]
  },
  {
   "cell_type": "markdown",
   "metadata": {},
   "source": [
    "BQ.2 some P names started with an uppercase letter while other started with lowercase"
   ]
  },
  {
   "cell_type": "markdown",
   "metadata": {},
   "source": [
    "Define\n",
    "\n",
    "convert lowercase letters to uppercase"
   ]
  },
  {
   "cell_type": "markdown",
   "metadata": {},
   "source": [
    "code"
   ]
  },
  {
   "cell_type": "code",
   "execution_count": 264,
   "metadata": {},
   "outputs": [],
   "source": [
    "clean_t_archive.p1 = clean_t_archive.p1.str.title()\n",
    "clean_t_archive.p2 = clean_t_archive.p2.str.title()\n",
    "clean_t_archive.p3 = clean_t_archive.p3.str.title()"
   ]
  },
  {
   "cell_type": "markdown",
   "metadata": {},
   "source": [
    "test"
   ]
  },
  {
   "cell_type": "code",
   "execution_count": 265,
   "metadata": {},
   "outputs": [
    {
     "data": {
      "text/plain": [
       "0                       Orange\n",
       "1                    Chihuahua\n",
       "2                    Chihuahua\n",
       "3                  Paper Towel\n",
       "4                       Basset\n",
       "5     Chesapeake Bay Retriever\n",
       "6                  Appenzeller\n",
       "7                   Pomeranian\n",
       "8                Irish Terrier\n",
       "9                     Pembroke\n",
       "10                     Samoyed\n",
       "11              French Bulldog\n",
       "12                    Pembroke\n",
       "13              French Bulldog\n",
       "14            Golden Retriever\n",
       "15                     Whippet\n",
       "16            Golden Retriever\n",
       "17            Golden Retriever\n",
       "18              Siberian Husky\n",
       "20              French Bulldog\n",
       "Name: p1, dtype: object"
      ]
     },
     "execution_count": 265,
     "metadata": {},
     "output_type": "execute_result"
    }
   ],
   "source": [
    "clean_t_archive.p1.head(20)"
   ]
  },
  {
   "cell_type": "markdown",
   "metadata": {},
   "source": [
    "CQ1.missing entires (only 2354 entires instead of 2356)\n"
   ]
  },
  {
   "cell_type": "markdown",
   "metadata": {},
   "source": [
    "Define\n",
    "\n",
    "delete rowes without retweet_count entiers"
   ]
  },
  {
   "cell_type": "markdown",
   "metadata": {},
   "source": [
    "code"
   ]
  },
  {
   "cell_type": "markdown",
   "metadata": {},
   "source": [
    "delete in previous steps while cleaning other issues"
   ]
  },
  {
   "cell_type": "markdown",
   "metadata": {},
   "source": [
    "test"
   ]
  },
  {
   "cell_type": "code",
   "execution_count": 266,
   "metadata": {},
   "outputs": [
    {
     "data": {
      "text/plain": [
       "0"
      ]
     },
     "execution_count": 266,
     "metadata": {},
     "output_type": "execute_result"
    }
   ],
   "source": [
    "sum(clean_t_archive.retweet_count.isnull())"
   ]
  },
  {
   "cell_type": "markdown",
   "metadata": {},
   "source": [
    "# Storing Data"
   ]
  },
  {
   "cell_type": "code",
   "execution_count": 267,
   "metadata": {},
   "outputs": [],
   "source": [
    "clean_t_archive.to_csv('twitter_archive_master.csv')"
   ]
  },
  {
   "cell_type": "markdown",
   "metadata": {},
   "source": [
    "# Data Analysis And Visualizations"
   ]
  },
  {
   "cell_type": "markdown",
   "metadata": {},
   "source": [
    "A. the percentage different between dog stage"
   ]
  },
  {
   "cell_type": "code",
   "execution_count": 268,
   "metadata": {},
   "outputs": [
    {
     "data": {
      "text/plain": [
       "pupper            224\n",
       "doggo              76\n",
       "doggo, pupper      10\n",
       "floofer             9\n",
       "doggo, floofer      1\n",
       "Name: dog_stage, dtype: int64"
      ]
     },
     "execution_count": 268,
     "metadata": {},
     "output_type": "execute_result"
    }
   ],
   "source": [
    "stage_df = clean_t_archive.dog_stage.value_counts()\n",
    "stage_df"
   ]
  },
  {
   "cell_type": "code",
   "execution_count": 269,
   "metadata": {},
   "outputs": [
    {
     "data": {
      "image/png": "[encoded data removed]",
      "text/plain": [
       "<matplotlib.figure.Figure at 0x7fea3249f550>"
      ]
     },
     "metadata": {
      "needs_background": "light"
     },
     "output_type": "display_data"
    }
   ],
   "source": [
    "data = clean_t_archive.groupby('dog_stage').count()['tweet_id']\n",
    "ax = sns.barplot(y=data.index, x=data.values, palette='Blues_d')\n",
    "ax.set(xlabel='Count', ylabel='Dog stage', title='Dog Stage Counts')\n",
    "plt.show()"
   ]
  },
  {
   "cell_type": "markdown",
   "metadata": {},
   "source": [
    "insights\n",
    "\n",
    "1.pupper has the highest percentage\n",
    "\n",
    "2.doggo, floofer has the lowest percentage"
   ]
  },
  {
   "cell_type": "markdown",
   "metadata": {},
   "source": [
    "#B.Relationship between Retweet count and favorite count"
   ]
  },
  {
   "cell_type": "code",
   "execution_count": 270,
   "metadata": {
    "scrolled": true
   },
   "outputs": [
    {
     "data": {
      "text/plain": [
       "Text(0,0.5,'favorite count')"
      ]
     },
     "execution_count": 270,
     "metadata": {},
     "output_type": "execute_result"
    },
    {
     "data": {
      "image/png": "[encoded data removed]",
      "text/plain": [
       "<matplotlib.figure.Figure at 0x7fea3249f7b8>"
      ]
     },
     "metadata": {
      "needs_background": "light"
     },
     "output_type": "display_data"
    }
   ],
   "source": [
    "plt.scatter(clean_t_archive.retweet_count,clean_t_archive.favorite_count)\n",
    "plt.title('Retweet vs favorite')\n",
    "plt.xlabel('Retweet count')\n",
    "plt.ylabel('favorite count')"
   ]
  },
  {
   "cell_type": "markdown",
   "metadata": {},
   "source": [
    "insights\n",
    "it appears that there is alinear relationship between both parameters."
   ]
  },
  {
   "cell_type": "code",
   "execution_count": null,
   "metadata": {},
   "outputs": [],
   "source": []
  }
 ],
 "metadata": {
  "kernelspec": {
   "display_name": "Python 3",
   "language": "python",
   "name": "python3"
  },
  "language_info": {
   "codemirror_mode": {
    "name": "ipython",
    "version": 3
   },
   "file_extension": ".py",
   "mimetype": "text/x-python",
   "name": "python",
   "nbconvert_exporter": "python",
   "pygments_lexer": "ipython3",
   "version": "3.6.3"
  }
 },
 "nbformat": 4,
 "nbformat_minor": 2
}
